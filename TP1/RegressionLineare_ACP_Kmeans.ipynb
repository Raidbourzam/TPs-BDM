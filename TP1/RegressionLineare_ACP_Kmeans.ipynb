{
 "cells": [
  {
   "cell_type": "code",
   "execution_count": 4,
   "metadata": {},
   "outputs": [
    {
     "name": "stdout",
     "output_type": "stream",
     "text": [
      "Requirement already satisfied: scikit-learn in c:\\users\\raidb\\anaconda3\\lib\\site-packages (1.3.0)\n",
      "Requirement already satisfied: numpy>=1.17.3 in c:\\users\\raidb\\anaconda3\\lib\\site-packages (from scikit-learn) (1.24.3)\n",
      "Requirement already satisfied: scipy>=1.5.0 in c:\\users\\raidb\\anaconda3\\lib\\site-packages (from scikit-learn) (1.11.1)\n",
      "Requirement already satisfied: joblib>=1.1.1 in c:\\users\\raidb\\anaconda3\\lib\\site-packages (from scikit-learn) (1.2.0)\n",
      "Requirement already satisfied: threadpoolctl>=2.0.0 in c:\\users\\raidb\\anaconda3\\lib\\site-packages (from scikit-learn) (2.2.0)\n",
      "Note: you may need to restart the kernel to use updated packages.\n"
     ]
    }
   ],
   "source": [
    "pip install scikit-learn"
   ]
  },
  {
   "cell_type": "markdown",
   "metadata": {},
   "source": [
    "La commande pip install scikit-learn est une commande utilisée dans Python pour installer la bibliothèque scikit-learn. Scikit-learn est une bibliothèque open-source d'apprentissage automatique (machine learning) en Python. Cette bibliothèque offre des outils et des algorithmes pour effectuer des tâches telles que la classification, la régression, le clustering et la réduction de dimensionnalité. L'installation de scikit-learn via pip permet aux développeurs d'accéder facilement à ses fonctionnalités dans leurs projets Python."
   ]
  },
  {
   "cell_type": "code",
   "execution_count": 5,
   "metadata": {},
   "outputs": [
    {
     "name": "stderr",
     "output_type": "stream",
     "text": [
      "c:\\Users\\raidb\\anaconda3\\Lib\\site-packages\\sklearn\\datasets\\_openml.py:1002: FutureWarning: The default value of `parser` will change from `'liac-arff'` to `'auto'` in 1.4. You can set `parser='auto'` to silence this warning. Therefore, an `ImportError` will be raised from 1.4 if the dataset is dense and pandas is not installed. Note that the pandas parser may return different data types. See the Notes Section in fetch_openml's API doc for details.\n",
      "  warn(\n"
     ]
    },
    {
     "name": "stdout",
     "output_type": "stream",
     "text": [
      "Shape of data: (58000, 9)\n",
      "Shape of target: (58000,)\n"
     ]
    }
   ],
   "source": [
    "from sklearn.datasets import fetch_openml\n",
    "\n",
    "shuttle_data = fetch_openml(name='shuttle', version=1, as_frame=True)\n",
    "\n",
    "print(\"Shape of data:\", shuttle_data['data'].shape)\n",
    "print(\"Shape of target:\", shuttle_data['target'].shape)"
   ]
  },
  {
   "cell_type": "markdown",
   "metadata": {},
   "source": [
    "Ce code Python utilise la bibliothèque scikit-learn pour importer des données à partir du référentiel OpenML. Plus précisément, il fait appel à la fonction fetch_openml pour charger l'ensemble de données \"shuttle\". Les données sont chargées sous forme de DataFrame pandas, ce qui facilite leur manipulation. Ensuite, le code affiche la forme des données d'entrée ainsi que la forme des étiquettes cibles correspondantes. Cette opération fournit une vue rapide de la structure des données avant de les utiliser dans des modèles d'apprentissage automatique, ce qui est crucial pour la préparation et la compréhension des données."
   ]
  },
  {
   "cell_type": "code",
   "execution_count": 7,
   "metadata": {},
   "outputs": [
    {
     "name": "stderr",
     "output_type": "stream",
     "text": [
      "c:\\Users\\raidb\\anaconda3\\Lib\\site-packages\\sklearn\\datasets\\_openml.py:1002: FutureWarning: The default value of `parser` will change from `'liac-arff'` to `'auto'` in 1.4. You can set `parser='auto'` to silence this warning. Therefore, an `ImportError` will be raised from 1.4 if the dataset is dense and pandas is not installed. Note that the pandas parser may return different data types. See the Notes Section in fetch_openml's API doc for details.\n",
      "  warn(\n"
     ]
    },
    {
     "ename": "NameError",
     "evalue": "name 'StandardScaler' is not defined",
     "output_type": "error",
     "traceback": [
      "\u001b[1;31m---------------------------------------------------------------------------\u001b[0m",
      "\u001b[1;31mNameError\u001b[0m                                 Traceback (most recent call last)",
      "Cell \u001b[1;32mIn[7], line 14\u001b[0m\n\u001b[0;32m     11\u001b[0m y \u001b[38;5;241m=\u001b[39m shuttle_data[\u001b[38;5;124m'\u001b[39m\u001b[38;5;124mtarget\u001b[39m\u001b[38;5;124m'\u001b[39m]\n\u001b[0;32m     13\u001b[0m \u001b[38;5;66;03m# Standardiser les données\u001b[39;00m\n\u001b[1;32m---> 14\u001b[0m scaler \u001b[38;5;241m=\u001b[39m StandardScaler()\n\u001b[0;32m     15\u001b[0m X_scaled \u001b[38;5;241m=\u001b[39m scaler\u001b[38;5;241m.\u001b[39mfit_transform(X)\n\u001b[0;32m     17\u001b[0m \u001b[38;5;66;03m# Appliquer l'ACP\u001b[39;00m\n",
      "\u001b[1;31mNameError\u001b[0m: name 'StandardScaler' is not defined"
     ]
    }
   ],
   "source": [
    "from sklearn.datasets import fetch_openml\n",
    "from sklearn.decomposition import PCA\n",
    "import pandas as pd\n",
    "import matplotlib.pyplot as plt\n",
    "\n",
    "# Charger les données\n",
    "shuttle_data = fetch_openml(name='shuttle', version=1, as_frame=True)\n",
    "\n",
    "# Séparer les données et les étiquettes\n",
    "X = shuttle_data['data']\n",
    "y = shuttle_data['target']\n",
    "\n",
    "# Standardiser les données\n",
    "scaler = StandardScaler()\n",
    "X_scaled = scaler.fit_transform(X)\n",
    "\n",
    "# Appliquer l'ACP\n",
    "pca = PCA(n_components=2)  # Réduire à 2 composantes principales pour la visualisation\n",
    "principal_components = pca.fit_transform(X_scaled)\n",
    "principal_df = pd.DataFrame(data=principal_components, columns=['PC1', 'PC2'])\n",
    "\n",
    "# Visualiser les projections des composantes principales\n",
    "plt.figure(figsize=(10, 6))\n",
    "plt.scatter(principal_df['PC1'], principal_df['PC2'], alpha=0.5)\n",
    "plt.xlabel('Composante Principale 1')\n",
    "plt.ylabel('Composante Principale 2')\n",
    "plt.title('Projection des Composantes Principales')\n",
    "plt.grid(True)\n",
    "plt.show()"
   ]
  },
  {
   "cell_type": "markdown",
   "metadata": {},
   "source": [
    "Ce script Python utilise la bibliothèque scikit-learn pour charger les données de l'ensemble \"shuttle\" à partir du référentiel OpenML. Après avoir séparé les données d'entrée et les étiquettes, il standardise les données pour les préparer à l'analyse. Ensuite, l'Analyse en Composantes Principales (ACP) est appliquée pour réduire la dimensionnalité des données à deux composantes principales, permettant ainsi leur visualisation dans un espace bidimensionnel. Les projections des composantes principales sont tracées à l'aide de matplotlib.pyplot, offrant ainsi un aperçu de la structure des données dans un format facilement interprétable."
   ]
  },
  {
   "cell_type": "code",
   "execution_count": null,
   "metadata": {},
   "outputs": [],
   "source": [
    "import numpy as np\n",
    "\n",
    "inertie_cumulee = np.cumsum(pca.explained_variance_ratio_)\n",
    "print(\"Inertie cumulée des trois premières composantes principales :\", inertie_cumulee)"
   ]
  },
  {
   "cell_type": "markdown",
   "metadata": {},
   "source": [
    "## KMeans sur notre dataset"
   ]
  },
  {
   "cell_type": "code",
   "execution_count": null,
   "metadata": {},
   "outputs": [],
   "source": [
    "from sklearn.cluster import KMeans\n",
    "\n",
    "# Nombre de clusters souhaité\n",
    "n_clusters = 3\n",
    "\n",
    "# Instancier l'algorithme KMeans avec le nombre de clusters\n",
    "kmeans = KMeans(n_clusters=n_clusters, n_init=10)\n",
    "\n",
    "# Entraîner le modèle KMeans sur les données\n",
    "kmeans.fit(X)  # X est votre jeu de données initial\n",
    "\n",
    "# Obtenir les labels des clusters pour chaque échantillon\n",
    "labels = kmeans.labels_\n",
    "\n",
    "# Afficher les labels des clusters pour chaque échantillon\n",
    "print(\"Labels des clusters :\", labels)"
   ]
  },
  {
   "cell_type": "code",
   "execution_count": null,
   "metadata": {},
   "outputs": [],
   "source": [
    "import matplotlib.pyplot as plt\n",
    "\n",
    "# Visualisation des clusters sur les deux premières composantes principales\n",
    "plt.figure(figsize=(8, 6))\n",
    "plt.scatter(principal_df['PC1'], principal_df['PC7'], c=labels, cmap='viridis', s=50, alpha=0.5)\n",
    "plt.xlabel('Composante Principale 1')\n",
    "plt.ylabel('Composante Principale 2')\n",
    "plt.title('Clusters de K-Means avec ACP')\n",
    "plt.colorbar(label='Cluster')\n",
    "plt.show()"
   ]
  },
  {
   "cell_type": "markdown",
   "metadata": {},
   "source": [
    "on remarque que K-means nous donne 3 clusters en vert,jaune et violet apres la visualisation en utilisant l'ACP"
   ]
  },
  {
   "cell_type": "markdown",
   "metadata": {},
   "source": [
    "## KMeans sur l'ACP du dataset"
   ]
  },
  {
   "cell_type": "code",
   "execution_count": null,
   "metadata": {},
   "outputs": [],
   "source": [
    "from sklearn.cluster import KMeans\n",
    "\n",
    "# Instancier l'algorithme KMeans avec le nombre de clusters souhaité\n",
    "n_clusters = 3\n",
    "kmeans = KMeans(n_clusters=n_clusters, n_init=10)\n",
    "\n",
    "# Appliquer KMeans sur les composantes principales\n",
    "kmeans.fit(principal_df)\n",
    "\n",
    "# Obtenir les labels des clusters pour chaque échantillon\n",
    "labels = kmeans.labels_\n",
    "\n",
    "# Afficher les labels des clusters pour chaque échantillon\n",
    "print(\"Labels des clusters :\", labels)"
   ]
  },
  {
   "cell_type": "code",
   "execution_count": null,
   "metadata": {},
   "outputs": [],
   "source": [
    "from sklearn.datasets import fetch_openml\n",
    "from sklearn.preprocessing import StandardScaler\n",
    "from sklearn.decomposition import PCA\n",
    "from sklearn.cluster import KMeans\n",
    "import matplotlib.pyplot as plt\n",
    "\n",
    "# Charger les données\n",
    "shuttle_data = fetch_openml(name='shuttle', version=1, as_frame=True)\n",
    "X = shuttle_data['data']\n",
    "\n",
    "# Standardiser les données\n",
    "scaler = StandardScaler()\n",
    "X_scaled = scaler.fit_transform(X)\n",
    "\n",
    "# Appliquer l'ACP\n",
    "pca = PCA(n_components=5)  # Choisissez le nombre de composantes principales\n",
    "principal_components = pca.fit_transform(X_scaled)\n",
    "\n",
    "# Appliquer K-Means sur les composantes principales\n",
    "kmeans = KMeans(n_clusters=3, n_init=10)\n",
    "kmeans.fit(principal_components)\n",
    "labels = kmeans.labels_\n",
    "\n",
    "# Visualiser les clusters sur les composantes principales\n",
    "plt.figure(figsize=(8, 6))\n",
    "plt.scatter(principal_components[:, 0], principal_components[:, 1], c=labels, cmap='viridis', s=50, alpha=0.5)\n",
    "plt.xlabel('Composante Principale 1')\n",
    "plt.ylabel('Composante Principale 2')\n",
    "plt.title('Clusters de K-Means sur les Composantes Principales')\n",
    "plt.colorbar(label='Cluster')\n",
    "plt.show()\n"
   ]
  },
  {
   "cell_type": "markdown",
   "metadata": {},
   "source": [
    "Apres l'utilisation de k-means sur les composantes principales on remarque que les clusters ont changé leurs elements  la partie dense avant l'acp qui etait en violet la plupart de ses element devient en vert ou jaune donc changement de classe"
   ]
  },
  {
   "cell_type": "markdown",
   "metadata": {},
   "source": [
    "## KMeans sur les principales caractéristiques sélectionnées"
   ]
  },
  {
   "cell_type": "code",
   "execution_count": null,
   "metadata": {},
   "outputs": [],
   "source": [
    "from sklearn.preprocessing import MinMaxScaler\n",
    "from sklearn.feature_selection import SelectKBest, chi2\n",
    "\n",
    "# Appliquer MinMaxScaler pour mettre à l'échelle les caractéristiques dans une plage non négative\n",
    "scaler = MinMaxScaler()\n",
    "X_scaled = scaler.fit_transform(X)\n",
    "\n",
    "# Sélection des caractéristiques avec SelectKBest et le test du chi carré\n",
    "selector = SelectKBest(chi2, k=2)  # Vous pouvez ajuster k en fonction de vos besoins\n",
    "X_new = selector.fit_transform(X_scaled, y)\n",
    "\n",
    "# Affichage des indices des caractéristiques sélectionnées\n",
    "print(\"Indices des caractéristiques sélectionnées :\", selector.get_support(indices=True))\n",
    "\n",
    "X_new = selector.fit_transform(X_scaled, y)\n",
    "\n",
    "# Obtenez les indices des caractéristiques sélectionnées\n",
    "indices_caracteristiques_selectionnees = selector.get_support(indices=True)\n",
    "\n",
    "# Créez un nouveau DataFrame avec seulement les caractéristiques sélectionnées\n",
    "nouveau_X = X.iloc[:, indices_caracteristiques_selectionnees]\n",
    "\n",
    "# Afficher la forme du nouveau jeu de données pour vérifier\n",
    "print(\"Shape of new dataset:\", nouveau_X.shape)"
   ]
  },
  {
   "cell_type": "code",
   "execution_count": null,
   "metadata": {},
   "outputs": [],
   "source": [
    "n_clusters = 3\n",
    "\n",
    "# Instancier l'algorithme KMeans avec le nombre de clusters\n",
    "kmeans = KMeans(n_clusters=n_clusters, random_state=42)\n",
    "\n",
    "# Entraîner le modèle KMeans sur le nouveau jeu de données\n",
    "kmeans.fit(nouveau_X)\n",
    "\n",
    "# Obtenir les labels des clusters pour chaque échantillon\n",
    "labels = kmeans.labels_\n",
    "\n",
    "# Visualiser les clusters sur les deux caractéristiques sélectionnées\n",
    "plt.figure(figsize=(8, 6))\n",
    "plt.scatter(nouveau_X.iloc[:, 0], nouveau_X.iloc[:, 1], c=labels, cmap='viridis', s=50, alpha=0.5)\n",
    "plt.xlabel('Feature 1')\n",
    "plt.ylabel('Feature 2')\n",
    "plt.title('Clusters de K-Means sur les deux caractéristiques sélectionnées')\n",
    "plt.colorbar(label='Cluster')\n",
    "plt.show()"
   ]
  },
  {
   "cell_type": "markdown",
   "metadata": {},
   "source": []
  },
  {
   "cell_type": "markdown",
   "metadata": {},
   "source": [
    "## Evaluation du Clustering avec Elbow"
   ]
  },
  {
   "cell_type": "code",
   "execution_count": null,
   "metadata": {},
   "outputs": [],
   "source": [
    "# Liste pour stocker les valeurs d'inertie\n",
    "inertia = []\n",
    "\n",
    "# Nombre de clusters à tester\n",
    "k_range = range(1, 11)\n",
    "\n",
    "# Calcul de l'inertie pour différents nombres de clusters\n",
    "for k in k_range:\n",
    "    kmeans = KMeans(n_clusters=k)\n",
    "    kmeans.fit(X)\n",
    "    inertia.append(kmeans.inertia_)\n",
    "\n",
    "# Tracer la courbe d'inertie\n",
    "plt.plot(k_range, inertia, marker='X')\n",
    "plt.xlabel('Nombre de clusters')\n",
    "plt.ylabel('Inertie')\n",
    "plt.title('Méthode du coude pour déterminer le nombre optimal de clusters')\n",
    "plt.show()"
   ]
  },
  {
   "cell_type": "markdown",
   "metadata": {},
   "source": [
    "## Evaluation du Clustering avec Silhouette"
   ]
  },
  {
   "cell_type": "code",
   "execution_count": null,
   "metadata": {},
   "outputs": [],
   "source": [
    "from sklearn.metrics import silhouette_score\n",
    "\n",
    "# Liste pour stocker les scores de silhouette\n",
    "silhouette_scores = []\n",
    "\n",
    "# Nombre de clusters à tester\n",
    "cluster_range = range(2, 11)\n",
    "\n",
    "for n_clusters in cluster_range:\n",
    "    # Instancier et entraîner le modèle KMeans\n",
    "    kmeans = KMeans(n_clusters=n_clusters, random_state=42)\n",
    "    cluster_labels = kmeans.fit_predict(X)\n",
    "    \n",
    "    # Calculer le score de silhouette\n",
    "    silhouette_avg = silhouette_score(X, cluster_labels)\n",
    "    silhouette_scores.append(silhouette_avg)\n",
    "\n",
    "# Tracer la courbe des scores de silhouette\n",
    "plt.plot(cluster_range, silhouette_scores, marker='o')\n",
    "plt.xlabel('Nombre de clusters')\n",
    "plt.ylabel('Score de silhouette')\n",
    "plt.title('Méthode de Silhouette pour déterminer le nombre optimal de clusters')\n",
    "plt.xticks(cluster_range)\n",
    "plt.grid(True)\n",
    "plt.show()"
   ]
  },
  {
   "cell_type": "markdown",
   "metadata": {},
   "source": [
    "# Linear regression"
   ]
  },
  {
   "cell_type": "code",
   "execution_count": 8,
   "metadata": {},
   "outputs": [
    {
     "name": "stdout",
     "output_type": "stream",
     "text": [
      "Index(['Country', 'City', 'AQI Value', 'AQI Category', 'CO AQI Value',\n",
      "       'CO AQI Category', 'Ozone AQI Value', 'Ozone AQI Category',\n",
      "       'NO2 AQI Value', 'NO2 AQI Category', 'PM2.5 AQI Value',\n",
      "       'PM2.5 AQI Category', 'lat', 'lng'],\n",
      "      dtype='object')\n"
     ]
    }
   ],
   "source": [
    "url = \"./AirQualityDataset.csv\"\n",
    "data = pd.read_csv(url, sep=',')\n",
    "\n",
    "print(data.columns)"
   ]
  },
  {
   "cell_type": "code",
   "execution_count": 9,
   "metadata": {},
   "outputs": [
    {
     "data": {
      "text/plain": [
       "(16695, 14)"
      ]
     },
     "execution_count": 9,
     "metadata": {},
     "output_type": "execute_result"
    }
   ],
   "source": [
    "data.shape"
   ]
  },
  {
   "cell_type": "code",
   "execution_count": 10,
   "metadata": {},
   "outputs": [],
   "source": [
    "x = data['AQI Value']\n",
    "\n",
    "y = data['Ozone AQI Value']"
   ]
  },
  {
   "cell_type": "code",
   "execution_count": 11,
   "metadata": {},
   "outputs": [
    {
     "data": {
      "image/png": "[encoded data removed]",
      "text/plain": [
       "<Figure size 640x480 with 1 Axes>"
      ]
     },
     "metadata": {},
     "output_type": "display_data"
    }
   ],
   "source": [
    "# Creating a scatter plot to visualize the generated data\n",
    "# - x: Independent variable values (abscissa)\n",
    "# - y: Dependent variable values (ordinate)\n",
    "plt.scatter(x, y)\n",
    "\n",
    "# Adding labels to the axes\n",
    "plt.xlabel('X')\n",
    "plt.ylabel('Y')\n",
    "\n",
    "# Displaying the plot\n",
    "plt.show()"
   ]
  },
  {
   "cell_type": "code",
   "execution_count": 12,
   "metadata": {},
   "outputs": [
    {
     "name": "stdout",
     "output_type": "stream",
     "text": [
      "(16695, 1)\n"
     ]
    }
   ],
   "source": [
    "import numpy as np\n",
    "\n",
    "# Convertir la série pandas en un tableau numpy\n",
    "y_array = y.to_numpy()  # ou bien y.values\n",
    "\n",
    "# Appliquer reshape sur le tableau numpy\n",
    "y= y_array.reshape(y.shape[0], 1)\n",
    "\n",
    "# Afficher la nouvelle forme de y après le remodelage\n",
    "print(y.shape)\n"
   ]
  },
  {
   "cell_type": "code",
   "execution_count": 13,
   "metadata": {},
   "outputs": [
    {
     "name": "stdout",
     "output_type": "stream",
     "text": [
      "(16695, 1)\n"
     ]
    }
   ],
   "source": [
    "x_array = x.to_numpy()\n",
    "x= x_array.reshape(x.shape[0], 1)\n",
    "print(x.shape)"
   ]
  },
  {
   "cell_type": "code",
   "execution_count": 14,
   "metadata": {},
   "outputs": [
    {
     "name": "stdout",
     "output_type": "stream",
     "text": [
      "(16695, 2)\n"
     ]
    }
   ],
   "source": [
    "X = np.hstack((x, np.ones(x.shape)))\n",
    "print(X.shape)"
   ]
  },
  {
   "cell_type": "code",
   "execution_count": 15,
   "metadata": {},
   "outputs": [
    {
     "data": {
      "text/plain": [
       "array([[1.76405235],\n",
       "       [0.40015721]])"
      ]
     },
     "execution_count": 15,
     "metadata": {},
     "output_type": "execute_result"
    }
   ],
   "source": [
    "np.random.seed(0)  # Set the seed for reproducibility\n",
    "\n",
    "# Generate a random vector theta with shape (2, 1) using a standard normal distribution\n",
    "# The shape is (2, 1) indicating it's a column vector with 2 rows and 1 column\n",
    "theta = np.random.randn(2, 1)\n",
    "\n",
    "# Display the generated random vector theta\n",
    "theta"
   ]
  },
  {
   "cell_type": "code",
   "execution_count": 16,
   "metadata": {},
   "outputs": [],
   "source": [
    "def Linear_model(X, theta):\n",
    "    return X.dot(theta)"
   ]
  },
  {
   "cell_type": "code",
   "execution_count": 17,
   "metadata": {},
   "outputs": [
    {
     "data": {
      "text/plain": [
       "[<matplotlib.lines.Line2D at 0x2934da73710>]"
      ]
     },
     "execution_count": 17,
     "metadata": {},
     "output_type": "execute_result"
    },
    {
     "data": {
      "image/png": "[encoded data removed]",
      "text/plain": [
       "<Figure size 640x480 with 1 Axes>"
      ]
     },
     "metadata": {},
     "output_type": "display_data"
    }
   ],
   "source": [
    "plt.scatter(x, y)\n",
    "plt.plot(x, Linear_model(X, theta), c='red')"
   ]
  },
  {
   "cell_type": "code",
   "execution_count": 18,
   "metadata": {},
   "outputs": [],
   "source": [
    "def cost_function(X, y, theta):\n",
    "    m = len(y)\n",
    "    return 1/(2*m) * np.sum((Linear_model(X, theta) - y)**2)"
   ]
  },
  {
   "cell_type": "code",
   "execution_count": 19,
   "metadata": {},
   "outputs": [
    {
     "data": {
      "text/plain": [
       "5761.820390686171"
      ]
     },
     "execution_count": 19,
     "metadata": {},
     "output_type": "execute_result"
    }
   ],
   "source": [
    "cost_function(X, y, theta)"
   ]
  },
  {
   "cell_type": "code",
   "execution_count": 20,
   "metadata": {},
   "outputs": [],
   "source": [
    "def grad(X, y, theta):\n",
    "    m = len(y)\n",
    "    return 1/m * X.T.dot(Linear_model(X, theta) - y)"
   ]
  },
  {
   "cell_type": "code",
   "execution_count": 21,
   "metadata": {},
   "outputs": [],
   "source": [
    "def gradient_descent(X, y, theta, learning_rate, n_iterations):\n",
    "    \"\"\"\n",
    "    Perform gradient descent to minimize the cost function.\n",
    "\n",
    "    Parameters:\n",
    "    - X: Feature matrix (including the intercept term)\n",
    "    - y: Target values\n",
    "    - theta: Initial model parameters\n",
    "    - learning_rate: Learning rate for gradient descent\n",
    "    - n_iterations: Number of iterations for gradient descent\n",
    "\n",
    "    Returns:\n",
    "    - Optimized model parameters theta\n",
    "    - Array of cost history (evolution of cost function over iterations)\n",
    "    \"\"\"\n",
    "    cost_history = np.zeros(n_iterations)  # Create an array to store the evolution of the cost function\n",
    "    \n",
    "    for i in range(n_iterations):\n",
    "        # Update theta using gradient descent formula\n",
    "        theta = theta - learning_rate * grad(X, y, theta)\n",
    "        \n",
    "        # Calculate the cost function value and store it in the cost_history array\n",
    "        cost_history[i] = cost_function(X, y, theta)\n",
    "        \n",
    "    return theta, cost_history"
   ]
  },
  {
   "cell_type": "code",
   "execution_count": 22,
   "metadata": {},
   "outputs": [],
   "source": [
    "n_iterations = 100\n",
    "learning_rate = 0.0001\n",
    "\n",
    "\n",
    "theta_final, cost_history = gradient_descent(X, y, theta, learning_rate, n_iterations)"
   ]
  },
  {
   "cell_type": "code",
   "execution_count": 23,
   "metadata": {},
   "outputs": [
    {
     "data": {
      "text/plain": [
       "array([[0.39407713],\n",
       "       [0.45036017]])"
      ]
     },
     "execution_count": 23,
     "metadata": {},
     "output_type": "execute_result"
    }
   ],
   "source": [
    "theta_final"
   ]
  },
  {
   "cell_type": "code",
   "execution_count": 24,
   "metadata": {},
   "outputs": [
    {
     "data": {
      "text/plain": [
       "array([1250.82613539,  465.02600969,  328.13936237,  304.29077118,\n",
       "        300.13294414,  299.40516736,  299.27489143,  299.24869791,\n",
       "        299.24063534,  299.23573133,  299.23137776,  299.22712028,\n",
       "        299.22287978,  299.21864245,  299.2144059 ,  299.2101697 ,\n",
       "        299.20593379,  299.20169816,  299.19746279,  299.1932277 ,\n",
       "        299.18899287,  299.18475832,  299.18052403,  299.17629002,\n",
       "        299.17205627,  299.16782279,  299.16358959,  299.15935665,\n",
       "        299.15512399,  299.15089159,  299.14665946,  299.1424276 ,\n",
       "        299.13819602,  299.1339647 ,  299.12973365,  299.12550287,\n",
       "        299.12127236,  299.11704212,  299.11281216,  299.10858246,\n",
       "        299.10435303,  299.10012386,  299.09589497,  299.09166635,\n",
       "        299.087438  ,  299.08320992,  299.0789821 ,  299.07475456,\n",
       "        299.07052729,  299.06630028,  299.06207355,  299.05784708,\n",
       "        299.05362088,  299.04939496,  299.0451693 ,  299.04094391,\n",
       "        299.03671879,  299.03249394,  299.02826936,  299.02404505,\n",
       "        299.01982101,  299.01559723,  299.01137373,  299.0071505 ,\n",
       "        299.00292753,  298.99870483,  298.99448241,  298.99026025,\n",
       "        298.98603836,  298.98181674,  298.97759539,  298.97337431,\n",
       "        298.9691535 ,  298.96493295,  298.96071268,  298.95649267,\n",
       "        298.95227294,  298.94805347,  298.94383427,  298.93961534,\n",
       "        298.93539668,  298.93117829,  298.92696017,  298.92274231,\n",
       "        298.91852473,  298.91430741,  298.91009036,  298.90587358,\n",
       "        298.90165707,  298.89744083,  298.89322486,  298.88900916,\n",
       "        298.88479372,  298.88057855,  298.87636366,  298.87214903,\n",
       "        298.86793467,  298.86372057,  298.85950675,  298.8552932 ])"
      ]
     },
     "execution_count": 24,
     "metadata": {},
     "output_type": "execute_result"
    }
   ],
   "source": [
    "\"\"\"\n",
    "affichage des erreurs de chaque iteration \n",
    "\n",
    "\"\"\"\n",
    "\n",
    "cost_history"
   ]
  },
  {
   "cell_type": "code",
   "execution_count": 25,
   "metadata": {},
   "outputs": [
    {
     "data": {
      "text/plain": [
       "[<matplotlib.lines.Line2D at 0x29351f53750>]"
      ]
     },
     "execution_count": 25,
     "metadata": {},
     "output_type": "execute_result"
    },
    {
     "data": {
      "image/png": "[encoded data removed]",
      "text/plain": [
       "<Figure size 640x480 with 1 Axes>"
      ]
     },
     "metadata": {},
     "output_type": "display_data"
    }
   ],
   "source": [
    "# Create predictions using the trained model and final parameters\n",
    "predictions = Linear_model(X, theta_final)\n",
    "\n",
    "# Plot the original dataset (in blue) and the predictions (in red)\n",
    "plt.scatter(x, y)  # Scatter plot of the original dataset\n",
    "plt.plot(x, predictions, c='r')  # Plot predictions against the x values"
   ]
  },
  {
   "cell_type": "code",
   "execution_count": 26,
   "metadata": {},
   "outputs": [
    {
     "data": {
      "text/plain": [
       "[<matplotlib.lines.Line2D at 0x29351dbda10>]"
      ]
     },
     "execution_count": 26,
     "metadata": {},
     "output_type": "execute_result"
    },
    {
     "data": {
      "image/png": "[encoded data removed]",
      "text/plain": [
       "<Figure size 640x480 with 1 Axes>"
      ]
     },
     "metadata": {},
     "output_type": "display_data"
    }
   ],
   "source": [
    "plt.plot(range(n_iterations), cost_history)"
   ]
  },
  {
   "cell_type": "code",
   "execution_count": 27,
   "metadata": {},
   "outputs": [],
   "source": [
    "def coef_determination(y, pred):\n",
    "    \"\"\"\n",
    "    Calculate the coefficient of determination (R^2 score).\n",
    "\n",
    "    Parameters:\n",
    "    - y: Array of true values\n",
    "    - pred: Array of predicted values\n",
    "\n",
    "    Returns:\n",
    "    - Coefficient of determination (R^2 score)\n",
    "    \"\"\"\n",
    "    u = ((y - pred)**2).sum()  # Sum of squared residuals (unexplained variance)\n",
    "    v = ((y - y.mean())**2).sum()  # Total sum of squares (total variance)\n",
    "    return 1 - u/v  # Coefficient of determination formula"
   ]
  },
  {
   "cell_type": "code",
   "execution_count": 28,
   "metadata": {},
   "outputs": [
    {
     "data": {
      "text/plain": [
       "-0.14590800693218609"
      ]
     },
     "execution_count": 28,
     "metadata": {},
     "output_type": "execute_result"
    }
   ],
   "source": [
    "coef_determination(y, predictions)"
   ]
  }
 ],
 "metadata": {
  "kernelspec": {
   "display_name": "base",
   "language": "python",
   "name": "python3"
  },
  "language_info": {
   "codemirror_mode": {
    "name": "ipython",
    "version": 3
   },
   "file_extension": ".py",
   "mimetype": "text/x-python",
   "name": "python",
   "nbconvert_exporter": "python",
   "pygments_lexer": "ipython3",
   "version": "3.11.5"
  }
 },
 "nbformat": 4,
 "nbformat_minor": 2
}
