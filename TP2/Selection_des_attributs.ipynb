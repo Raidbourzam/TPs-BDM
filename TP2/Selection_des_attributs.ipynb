{
 "cells": [
  {
   "cell_type": "markdown",
   "metadata": {},
   "source": [
    "## SELECTION DES ATTRIBUTS"
   ]
  },
  {
   "cell_type": "markdown",
   "metadata": {},
   "source": [
    "#### EXO1"
   ]
  },
  {
   "cell_type": "markdown",
   "metadata": {},
   "source": [
    "#### EXO2"
   ]
  },
  {
   "cell_type": "code",
   "execution_count": 1023,
   "metadata": {},
   "outputs": [],
   "source": [
    "import pandas as pd"
   ]
  },
  {
   "cell_type": "code",
   "execution_count": 1024,
   "metadata": {},
   "outputs": [
    {
     "name": "stdout",
     "output_type": "stream",
     "text": [
      "Index(['Unnamed: 0', 'Ozone', 'Solar.R', 'Wind', 'Temp', 'Month', 'Day'], dtype='object')\n"
     ]
    }
   ],
   "source": [
    "import numpy as np\n",
    "\n",
    "url = \"./airquality.csv\"\n",
    "data = pd.read_csv(url, sep=',')\n",
    "\n",
    "data = data[~np.isnan(data).any(axis=1)]\n",
    "\n",
    "print(data.columns)"
   ]
  },
  {
   "cell_type": "code",
   "execution_count": 1025,
   "metadata": {},
   "outputs": [
    {
     "data": {
      "text/plain": [
       "(111, 7)"
      ]
     },
     "execution_count": 1025,
     "metadata": {},
     "output_type": "execute_result"
    }
   ],
   "source": [
    "data.shape"
   ]
  },
  {
   "cell_type": "code",
   "execution_count": 1026,
   "metadata": {},
   "outputs": [
    {
     "data": {
      "text/plain": [
       "Index(['Unnamed: 0', 'Ozone', 'Solar.R', 'Wind', 'Temp', 'Month', 'Day'], dtype='object')"
      ]
     },
     "execution_count": 1026,
     "metadata": {},
     "output_type": "execute_result"
    }
   ],
   "source": [
    "data.columns"
   ]
  },
  {
   "cell_type": "code",
   "execution_count": 1027,
   "metadata": {},
   "outputs": [
    {
     "data": {
      "text/html": [
       "<div>\n",
       "<style scoped>\n",
       "    .dataframe tbody tr th:only-of-type {\n",
       "        vertical-align: middle;\n",
       "    }\n",
       "\n",
       "    .dataframe tbody tr th {\n",
       "        vertical-align: top;\n",
       "    }\n",
       "\n",
       "    .dataframe thead th {\n",
       "        text-align: right;\n",
       "    }\n",
       "</style>\n",
       "<table border=\"1\" class=\"dataframe\">\n",
       "  <thead>\n",
       "    <tr style=\"text-align: right;\">\n",
       "      <th></th>\n",
       "      <th>Unnamed: 0</th>\n",
       "      <th>Ozone</th>\n",
       "      <th>Solar.R</th>\n",
       "      <th>Wind</th>\n",
       "      <th>Temp</th>\n",
       "      <th>Month</th>\n",
       "      <th>Day</th>\n",
       "    </tr>\n",
       "  </thead>\n",
       "  <tbody>\n",
       "    <tr>\n",
       "      <th>0</th>\n",
       "      <td>1</td>\n",
       "      <td>41.0</td>\n",
       "      <td>190.0</td>\n",
       "      <td>7.4</td>\n",
       "      <td>67</td>\n",
       "      <td>5</td>\n",
       "      <td>1</td>\n",
       "    </tr>\n",
       "    <tr>\n",
       "      <th>1</th>\n",
       "      <td>2</td>\n",
       "      <td>36.0</td>\n",
       "      <td>118.0</td>\n",
       "      <td>8.0</td>\n",
       "      <td>72</td>\n",
       "      <td>5</td>\n",
       "      <td>2</td>\n",
       "    </tr>\n",
       "    <tr>\n",
       "      <th>2</th>\n",
       "      <td>3</td>\n",
       "      <td>12.0</td>\n",
       "      <td>149.0</td>\n",
       "      <td>12.6</td>\n",
       "      <td>74</td>\n",
       "      <td>5</td>\n",
       "      <td>3</td>\n",
       "    </tr>\n",
       "    <tr>\n",
       "      <th>3</th>\n",
       "      <td>4</td>\n",
       "      <td>18.0</td>\n",
       "      <td>313.0</td>\n",
       "      <td>11.5</td>\n",
       "      <td>62</td>\n",
       "      <td>5</td>\n",
       "      <td>4</td>\n",
       "    </tr>\n",
       "    <tr>\n",
       "      <th>6</th>\n",
       "      <td>7</td>\n",
       "      <td>23.0</td>\n",
       "      <td>299.0</td>\n",
       "      <td>8.6</td>\n",
       "      <td>65</td>\n",
       "      <td>5</td>\n",
       "      <td>7</td>\n",
       "    </tr>\n",
       "  </tbody>\n",
       "</table>\n",
       "</div>"
      ],
      "text/plain": [
       "   Unnamed: 0  Ozone  Solar.R  Wind  Temp  Month  Day\n",
       "0           1   41.0    190.0   7.4    67      5    1\n",
       "1           2   36.0    118.0   8.0    72      5    2\n",
       "2           3   12.0    149.0  12.6    74      5    3\n",
       "3           4   18.0    313.0  11.5    62      5    4\n",
       "6           7   23.0    299.0   8.6    65      5    7"
      ]
     },
     "execution_count": 1027,
     "metadata": {},
     "output_type": "execute_result"
    }
   ],
   "source": [
    "data.head()"
   ]
  },
  {
   "cell_type": "code",
   "execution_count": 1028,
   "metadata": {},
   "outputs": [],
   "source": [
    "data = data.drop(data.columns[0], axis=1) "
   ]
  },
  {
   "cell_type": "markdown",
   "metadata": {},
   "source": [
    "Correlation matrix"
   ]
  },
  {
   "cell_type": "code",
   "execution_count": 1029,
   "metadata": {},
   "outputs": [
    {
     "name": "stdout",
     "output_type": "stream",
     "text": [
      "            Ozone   Solar.R      Wind      Temp     Month       Day\n",
      "Ozone    1.000000  0.348342 -0.612497  0.698541  0.142885 -0.005190\n",
      "Solar.R  0.348342  1.000000 -0.127183  0.294088 -0.074067 -0.057754\n",
      "Wind    -0.612497 -0.127183  1.000000 -0.497190 -0.194496  0.049871\n",
      "Temp     0.698541  0.294088 -0.497190  1.000000  0.403972 -0.096546\n",
      "Month    0.142885 -0.074067 -0.194496  0.403972  1.000000 -0.009001\n",
      "Day     -0.005190 -0.057754  0.049871 -0.096546 -0.009001  1.000000\n"
     ]
    }
   ],
   "source": [
    "df = pd.DataFrame(data)\n",
    "\n",
    "correlation = df.corr()\n",
    "print(correlation)"
   ]
  },
  {
   "cell_type": "code",
   "execution_count": 1030,
   "metadata": {},
   "outputs": [
    {
     "data": {
      "image/png": "[encoded data removed]",
      "text/plain": [
       "<Figure size 640x480 with 1 Axes>"
      ]
     },
     "metadata": {},
     "output_type": "display_data"
    }
   ],
   "source": [
    "import matplotlib.pyplot as plt\n",
    "\n",
    "\n",
    "plt.hist(data[\"Ozone\"], bins=data.shape[0])\n",
    "\n",
    "plt.xlabel(\"Ozone Concentration (ppb)\")\n",
    "plt.ylabel(\"Frequency\")\n",
    "plt.title(\"Histogram of Ozone Concentrations\")\n",
    "\n",
    "plt.show()"
   ]
  },
  {
   "cell_type": "markdown",
   "metadata": {},
   "source": [
    "### preparation des training_data et test_data "
   ]
  },
  {
   "cell_type": "markdown",
   "metadata": {},
   "source": [
    "# Linear regression"
   ]
  },
  {
   "cell_type": "code",
   "execution_count": 1032,
   "metadata": {},
   "outputs": [
    {
     "data": {
      "text/plain": [
       "(111, 6)"
      ]
     },
     "execution_count": 1032,
     "metadata": {},
     "output_type": "execute_result"
    }
   ],
   "source": [
    "data.shape"
   ]
  },
  {
   "cell_type": "code",
   "execution_count": 1033,
   "metadata": {},
   "outputs": [
    {
     "name": "stdout",
     "output_type": "stream",
     "text": [
      "(111, 5)\n",
      "(111,)\n"
     ]
    }
   ],
   "source": [
    "x = df.drop('Ozone', axis=1)\n",
    "y = data['Ozone']\n",
    "print(x.shape)\n",
    "print(y.shape)"
   ]
  },
  {
   "cell_type": "code",
   "execution_count": 1034,
   "metadata": {},
   "outputs": [
    {
     "data": {
      "text/plain": [
       "(111, 6)"
      ]
     },
     "execution_count": 1034,
     "metadata": {},
     "output_type": "execute_result"
    }
   ],
   "source": [
    "ones_column = np.ones((x.shape[0], 1))\n",
    "x = np.hstack((ones_column, x))\n",
    "x.shape"
   ]
  },
  {
   "cell_type": "code",
   "execution_count": 1035,
   "metadata": {},
   "outputs": [
    {
     "name": "stdout",
     "output_type": "stream",
     "text": [
      "[[  1.  190.    7.4  67.    5.    1. ]\n",
      " [  1.  118.    8.   72.    5.    2. ]\n",
      " [  1.  149.   12.6  74.    5.    3. ]\n",
      " [  1.  313.   11.5  62.    5.    4. ]\n",
      " [  1.  299.    8.6  65.    5.    7. ]\n",
      " [  1.   99.   13.8  59.    5.    8. ]\n",
      " [  1.   19.   20.1  61.    5.    9. ]\n",
      " [  1.  256.    9.7  69.    5.   12. ]\n",
      " [  1.  290.    9.2  66.    5.   13. ]\n",
      " [  1.  274.   10.9  68.    5.   14. ]\n",
      " [  1.   65.   13.2  58.    5.   15. ]\n",
      " [  1.  334.   11.5  64.    5.   16. ]\n",
      " [  1.  307.   12.   66.    5.   17. ]\n",
      " [  1.   78.   18.4  57.    5.   18. ]\n",
      " [  1.  322.   11.5  68.    5.   19. ]\n",
      " [  1.   44.    9.7  62.    5.   20. ]\n",
      " [  1.    8.    9.7  59.    5.   21. ]\n",
      " [  1.  320.   16.6  73.    5.   22. ]\n",
      " [  1.   25.    9.7  61.    5.   23. ]\n",
      " [  1.   92.   12.   61.    5.   24. ]\n",
      " [  1.   13.   12.   67.    5.   28. ]\n",
      " [  1.  252.   14.9  81.    5.   29. ]\n",
      " [  1.  223.    5.7  79.    5.   30. ]\n",
      " [  1.  279.    7.4  76.    5.   31. ]\n",
      " [  1.  127.    9.7  82.    6.    7. ]\n",
      " [  1.  291.   13.8  90.    6.    9. ]\n",
      " [  1.  323.   11.5  87.    6.   10. ]\n",
      " [  1.  148.    8.   82.    6.   13. ]\n",
      " [  1.  191.   14.9  77.    6.   16. ]\n",
      " [  1.  284.   20.7  72.    6.   17. ]\n",
      " [  1.   37.    9.2  65.    6.   18. ]\n",
      " [  1.  120.   11.5  73.    6.   19. ]\n",
      " [  1.  137.   10.3  76.    6.   20. ]\n",
      " [  1.  269.    4.1  84.    7.    1. ]\n",
      " [  1.  248.    9.2  85.    7.    2. ]\n",
      " [  1.  236.    9.2  81.    7.    3. ]\n",
      " [  1.  175.    4.6  83.    7.    5. ]\n",
      " [  1.  314.   10.9  83.    7.    6. ]\n",
      " [  1.  276.    5.1  88.    7.    7. ]\n",
      " [  1.  267.    6.3  92.    7.    8. ]\n",
      " [  1.  272.    5.7  92.    7.    9. ]\n",
      " [  1.  175.    7.4  89.    7.   10. ]\n",
      " [  1.  264.   14.3  73.    7.   12. ]\n",
      " [  1.  175.   14.9  81.    7.   13. ]\n",
      " [  1.   48.   14.3  80.    7.   15. ]\n",
      " [  1.  260.    6.9  81.    7.   16. ]\n",
      " [  1.  274.   10.3  82.    7.   17. ]\n",
      " [  1.  285.    6.3  84.    7.   18. ]\n",
      " [  1.  187.    5.1  87.    7.   19. ]\n",
      " [  1.  220.   11.5  85.    7.   20. ]\n",
      " [  1.    7.    6.9  74.    7.   21. ]\n",
      " [  1.  294.    8.6  86.    7.   24. ]\n",
      " [  1.  223.    8.   85.    7.   25. ]\n",
      " [  1.   81.    8.6  82.    7.   26. ]\n",
      " [  1.   82.   12.   86.    7.   27. ]\n",
      " [  1.  213.    7.4  88.    7.   28. ]\n",
      " [  1.  275.    7.4  86.    7.   29. ]\n",
      " [  1.  253.    7.4  83.    7.   30. ]\n",
      " [  1.  254.    9.2  81.    7.   31. ]\n",
      " [  1.   83.    6.9  81.    8.    1. ]\n",
      " [  1.   24.   13.8  81.    8.    2. ]\n",
      " [  1.   77.    7.4  82.    8.    3. ]\n",
      " [  1.  255.    4.   89.    8.    7. ]\n",
      " [  1.  229.   10.3  90.    8.    8. ]\n",
      " [  1.  207.    8.   90.    8.    9. ]\n",
      " [  1.  192.   11.5  86.    8.   12. ]\n",
      " [  1.  273.   11.5  82.    8.   13. ]\n",
      " [  1.  157.    9.7  80.    8.   14. ]\n",
      " [  1.   71.   10.3  77.    8.   16. ]\n",
      " [  1.   51.    6.3  79.    8.   17. ]\n",
      " [  1.  115.    7.4  76.    8.   18. ]\n",
      " [  1.  244.   10.9  78.    8.   19. ]\n",
      " [  1.  190.   10.3  78.    8.   20. ]\n",
      " [  1.  259.   15.5  77.    8.   21. ]\n",
      " [  1.   36.   14.3  72.    8.   22. ]\n",
      " [  1.  212.    9.7  79.    8.   24. ]\n",
      " [  1.  238.    3.4  81.    8.   25. ]\n",
      " [  1.  215.    8.   86.    8.   26. ]\n",
      " [  1.  203.    9.7  97.    8.   28. ]\n",
      " [  1.  225.    2.3  94.    8.   29. ]\n",
      " [  1.  237.    6.3  96.    8.   30. ]\n",
      " [  1.  188.    6.3  94.    8.   31. ]\n",
      " [  1.  167.    6.9  91.    9.    1. ]\n",
      " [  1.  197.    5.1  92.    9.    2. ]\n",
      " [  1.  183.    2.8  93.    9.    3. ]\n",
      " [  1.  189.    4.6  93.    9.    4. ]\n",
      " [  1.   95.    7.4  87.    9.    5. ]\n",
      " [  1.   92.   15.5  84.    9.    6. ]\n",
      " [  1.  252.   10.9  80.    9.    7. ]\n",
      " [  1.  220.   10.3  78.    9.    8. ]\n",
      " [  1.  230.   10.9  75.    9.    9. ]\n",
      " [  1.  259.    9.7  73.    9.   10. ]\n",
      " [  1.  236.   14.9  81.    9.   11. ]\n",
      " [  1.  259.   15.5  76.    9.   12. ]\n",
      " [  1.  238.    6.3  77.    9.   13. ]\n",
      " [  1.   24.   10.9  71.    9.   14. ]\n",
      " [  1.  112.   11.5  71.    9.   15. ]\n",
      " [  1.  237.    6.9  78.    9.   16. ]\n",
      " [  1.  224.   13.8  67.    9.   17. ]\n",
      " [  1.   27.   10.3  76.    9.   18. ]\n",
      " [  1.  238.   10.3  68.    9.   19. ]\n",
      " [  1.  201.    8.   82.    9.   20. ]\n",
      " [  1.  238.   12.6  64.    9.   21. ]\n",
      " [  1.   14.    9.2  71.    9.   22. ]\n",
      " [  1.  139.   10.3  81.    9.   23. ]\n",
      " [  1.   49.   10.3  69.    9.   24. ]\n",
      " [  1.   20.   16.6  63.    9.   25. ]\n",
      " [  1.  193.    6.9  70.    9.   26. ]\n",
      " [  1.  191.   14.3  75.    9.   28. ]\n",
      " [  1.  131.    8.   76.    9.   29. ]\n",
      " [  1.  223.   11.5  68.    9.   30. ]]\n"
     ]
    }
   ],
   "source": [
    "print(x)"
   ]
  },
  {
   "cell_type": "code",
   "execution_count": 1036,
   "metadata": {},
   "outputs": [
    {
     "data": {
      "text/plain": [
       "6"
      ]
     },
     "execution_count": 1036,
     "metadata": {},
     "output_type": "execute_result"
    }
   ],
   "source": [
    "x.shape[1] # shape[1] nombre de columns (features)"
   ]
  },
  {
   "cell_type": "code",
   "execution_count": 1037,
   "metadata": {},
   "outputs": [
    {
     "name": "stdout",
     "output_type": "stream",
     "text": [
      "(111, 1)\n"
     ]
    }
   ],
   "source": [
    "import numpy as np\n",
    "\n",
    "y_array = y.to_numpy()\n",
    "y= y_array.reshape(y.shape[0], 1)\n",
    "print(y.shape)"
   ]
  },
  {
   "cell_type": "code",
   "execution_count": 1038,
   "metadata": {},
   "outputs": [
    {
     "data": {
      "text/plain": [
       "array([[ 1.76405235],\n",
       "       [ 0.40015721],\n",
       "       [ 0.97873798],\n",
       "       [ 2.2408932 ],\n",
       "       [ 1.86755799],\n",
       "       [-0.97727788]])"
      ]
     },
     "execution_count": 1038,
     "metadata": {},
     "output_type": "execute_result"
    }
   ],
   "source": [
    "np.random.seed(0)  \n",
    "theta = np.random.randn(x.shape[1], 1)\n",
    "theta"
   ]
  },
  {
   "cell_type": "code",
   "execution_count": 1039,
   "metadata": {},
   "outputs": [
    {
     "data": {
      "text/plain": [
       "(6, 1)"
      ]
     },
     "execution_count": 1039,
     "metadata": {},
     "output_type": "execute_result"
    }
   ],
   "source": [
    "theta.shape"
   ]
  },
  {
   "cell_type": "code",
   "execution_count": 1040,
   "metadata": {},
   "outputs": [],
   "source": [
    "def Linear_model(x, theta):\n",
    "    return x.dot(theta)"
   ]
  },
  {
   "cell_type": "code",
   "execution_count": 1041,
   "metadata": {},
   "outputs": [
    {
     "data": {
      "text/plain": [
       "(111, 1)"
      ]
     },
     "execution_count": 1041,
     "metadata": {},
     "output_type": "execute_result"
    }
   ],
   "source": [
    "Linear_model(x, theta).shape"
   ]
  },
  {
   "cell_type": "code",
   "execution_count": 1042,
   "metadata": {},
   "outputs": [
    {
     "data": {
      "text/plain": [
       "(111, 6)"
      ]
     },
     "execution_count": 1042,
     "metadata": {},
     "output_type": "execute_result"
    }
   ],
   "source": [
    "x.shape"
   ]
  },
  {
   "cell_type": "code",
   "execution_count": 1043,
   "metadata": {},
   "outputs": [
    {
     "data": {
      "text/plain": [
       "(111, 1)"
      ]
     },
     "execution_count": 1043,
     "metadata": {},
     "output_type": "execute_result"
    }
   ],
   "source": [
    "y.shape"
   ]
  },
  {
   "cell_type": "code",
   "execution_count": 1044,
   "metadata": {},
   "outputs": [],
   "source": [
    "def cost_function(x, y, theta):\n",
    "    m = len(y)\n",
    "    return 1/(2*m) * np.sum((Linear_model(x, theta) - y)**2)"
   ]
  },
  {
   "cell_type": "code",
   "execution_count": 1045,
   "metadata": {},
   "outputs": [
    {
     "data": {
      "text/plain": [
       "(111, 6)"
      ]
     },
     "execution_count": 1045,
     "metadata": {},
     "output_type": "execute_result"
    }
   ],
   "source": [
    "x.shape"
   ]
  },
  {
   "cell_type": "code",
   "execution_count": 1046,
   "metadata": {},
   "outputs": [
    {
     "data": {
      "text/plain": [
       "(111, 1)"
      ]
     },
     "execution_count": 1046,
     "metadata": {},
     "output_type": "execute_result"
    }
   ],
   "source": [
    "y.shape"
   ]
  },
  {
   "cell_type": "code",
   "execution_count": 1047,
   "metadata": {},
   "outputs": [
    {
     "data": {
      "text/plain": [
       "(6, 1)"
      ]
     },
     "execution_count": 1047,
     "metadata": {},
     "output_type": "execute_result"
    }
   ],
   "source": [
    "theta.shape"
   ]
  },
  {
   "cell_type": "code",
   "execution_count": 1048,
   "metadata": {},
   "outputs": [
    {
     "data": {
      "text/plain": [
       "24080.433347838145"
      ]
     },
     "execution_count": 1048,
     "metadata": {},
     "output_type": "execute_result"
    }
   ],
   "source": [
    "cost_function(x, y, theta)"
   ]
  },
  {
   "cell_type": "code",
   "execution_count": 1049,
   "metadata": {},
   "outputs": [],
   "source": [
    "def grad(x, y, theta , alpha):\n",
    "    m = len(y)\n",
    "    return 1/m * alpha * x.T.dot(Linear_model(x, theta) - y)"
   ]
  },
  {
   "cell_type": "code",
   "execution_count": 1050,
   "metadata": {},
   "outputs": [
    {
     "data": {
      "text/plain": [
       "(6, 111)"
      ]
     },
     "execution_count": 1050,
     "metadata": {},
     "output_type": "execute_result"
    }
   ],
   "source": [
    "x.T.shape"
   ]
  },
  {
   "cell_type": "code",
   "execution_count": 1051,
   "metadata": {},
   "outputs": [
    {
     "data": {
      "text/plain": [
       "(111, 1)"
      ]
     },
     "execution_count": 1051,
     "metadata": {},
     "output_type": "execute_result"
    }
   ],
   "source": [
    "(Linear_model(x, theta) - y).shape"
   ]
  },
  {
   "cell_type": "code",
   "execution_count": 1052,
   "metadata": {},
   "outputs": [
    {
     "data": {
      "text/plain": [
       "(6, 1)"
      ]
     },
     "execution_count": 1052,
     "metadata": {},
     "output_type": "execute_result"
    }
   ],
   "source": [
    "x.T.dot(Linear_model(x, theta) - y).shape"
   ]
  },
  {
   "cell_type": "code",
   "execution_count": 1053,
   "metadata": {},
   "outputs": [],
   "source": [
    "def gradient_descent(x, y, theta, alpha, learning_rate, n_iterations):\n",
    "\n",
    "    cost_history = np.zeros(n_iterations)\n",
    "    \n",
    "    for i in range(n_iterations):\n",
    "\n",
    "        theta = theta - learning_rate * grad(x, y, theta, alpha)\n",
    "        \n",
    "        cost_history[i] = cost_function(x, y, theta)\n",
    "        \n",
    "    return theta, cost_history"
   ]
  },
  {
   "cell_type": "code",
   "execution_count": 1054,
   "metadata": {},
   "outputs": [],
   "source": [
    "n_iterations = 100\n",
    "learning_rate = 0.0000001\n",
    "alpha = 1\n",
    "\n",
    "theta_final, cost_history = gradient_descent(x, y, theta, alpha, learning_rate, n_iterations)"
   ]
  },
  {
   "cell_type": "code",
   "execution_count": 1055,
   "metadata": {},
   "outputs": [
    {
     "data": {
      "text/plain": [
       "array([[ 1.76229187],\n",
       "       [ 0.06189583],\n",
       "       [ 0.960885  ],\n",
       "       [ 2.10360887],\n",
       "       [ 1.85479177],\n",
       "       [-1.00436129]])"
      ]
     },
     "execution_count": 1055,
     "metadata": {},
     "output_type": "execute_result"
    }
   ],
   "source": [
    "theta_final"
   ]
  },
  {
   "cell_type": "code",
   "execution_count": 1056,
   "metadata": {},
   "outputs": [
    {
     "data": {
      "text/plain": [
       "array([23868.91139449, 23659.40761107, 23451.90271577, 23246.37761104,\n",
       "       23042.81338179, 22841.19129364, 22641.49279121, 22443.6994964 ,\n",
       "       22247.79320672, 22053.75589357, 21861.56970062, 21671.21694213,\n",
       "       21482.68010135, 21295.94182889, 21110.98494111, 20927.79241857,\n",
       "       20746.34740441, 20566.63320287, 20388.63327765, 20212.33125051,\n",
       "       20037.71089963, 19864.75615823, 19693.45111301, 19523.78000272,\n",
       "       19355.7272167 , 19189.27729343, 19024.41491913, 18861.12492633,\n",
       "       18699.39229247, 18539.20213851, 18380.5397276 , 18223.39046367,\n",
       "       18067.73989011, 17913.57368843, 17760.87767696, 17609.63780951,\n",
       "       17459.8401741 , 17311.47099166, 17164.51661479, 17018.96352647,\n",
       "       16874.79833883, 16732.0077919 , 16590.57875243, 16450.49821261,\n",
       "       16311.75328895, 16174.33122102, 16038.21937034, 15903.40521916,\n",
       "       15769.87636935, 15637.6205412 , 15506.62557236, 15376.87941667,\n",
       "       15248.37014306, 15121.08593447, 14995.01508673, 14870.14600749,\n",
       "       14746.46721517, 14623.9673379 , 14502.63511243, 14382.45938314,\n",
       "       14263.42910101, 14145.53332256, 14028.76120889, 13913.10202464,\n",
       "       13798.54513703, 13685.08001487, 13572.69622758, 13461.38344426,\n",
       "       13351.13143268, 13241.93005841, 13133.76928381, 13026.63916719,\n",
       "       12920.52986179, 12815.43161499, 12711.33476729, 12608.22975154,\n",
       "       12506.10709194, 12404.95740328, 12304.77138997, 12205.53984527,\n",
       "       12107.25365039, 12009.90377367, 11913.48126972, 11817.97727866,\n",
       "       11723.38302521, 11629.68981798, 11536.88904859, 11444.97219091,\n",
       "       11353.93080028, 11263.75651273, 11174.44104419, 11085.97618973,\n",
       "       10998.35382285, 10911.56589465, 10825.60443316, 10740.46154257,\n",
       "       10656.1294025 , 10572.6002673 , 10489.86646533, 10407.92039822])"
      ]
     },
     "execution_count": 1056,
     "metadata": {},
     "output_type": "execute_result"
    }
   ],
   "source": [
    "cost_history"
   ]
  },
  {
   "cell_type": "code",
   "execution_count": 1057,
   "metadata": {},
   "outputs": [
    {
     "data": {
      "text/plain": [
       "<mpl_toolkits.mplot3d.art3d.Path3DCollection at 0x19b13990910>"
      ]
     },
     "execution_count": 1057,
     "metadata": {},
     "output_type": "execute_result"
    },
    {
     "data": {
      "image/png": "[encoded data removed]",
      "text/plain": [
       "<Figure size 640x480 with 1 Axes>"
      ]
     },
     "metadata": {},
     "output_type": "display_data"
    }
   ],
   "source": [
    "predictions = Linear_model(x, theta_final)\n",
    "\n",
    "fig = plt.figure()\n",
    "ax = fig.add_subplot(111, projection='3d')\n",
    "\n",
    "ax.scatter(x[:,0], x[:,1], y)\n",
    "ax.scatter(x[:,0], x[:,1], predictions)"
   ]
  },
  {
   "cell_type": "code",
   "execution_count": 1058,
   "metadata": {},
   "outputs": [
    {
     "data": {
      "text/plain": [
       "[<matplotlib.lines.Line2D at 0x19b138c37d0>]"
      ]
     },
     "execution_count": 1058,
     "metadata": {},
     "output_type": "execute_result"
    },
    {
     "data": {
      "image/png": "[encoded data removed]",
      "text/plain": [
       "<Figure size 640x480 with 1 Axes>"
      ]
     },
     "metadata": {},
     "output_type": "display_data"
    }
   ],
   "source": [
    "plt.plot(range(n_iterations), cost_history)"
   ]
  },
  {
   "cell_type": "code",
   "execution_count": 1059,
   "metadata": {},
   "outputs": [],
   "source": [
    "def coef_determination(y, pred):\n",
    "\n",
    "    u = ((y - pred)**2).sum()\n",
    "    v = ((y - y.mean())**2).sum()\n",
    "    return 1 - u/v"
   ]
  },
  {
   "cell_type": "code",
   "execution_count": 1060,
   "metadata": {},
   "outputs": [
    {
     "data": {
      "text/plain": [
       "-17.969803758535342"
      ]
     },
     "execution_count": 1060,
     "metadata": {},
     "output_type": "execute_result"
    }
   ],
   "source": [
    "coef_determination(y, predictions)"
   ]
  }
 ],
 "metadata": {
  "kernelspec": {
   "display_name": "Python 3",
   "language": "python",
   "name": "python3"
  },
  "language_info": {
   "codemirror_mode": {
    "name": "ipython",
    "version": 3
   },
   "file_extension": ".py",
   "mimetype": "text/x-python",
   "name": "python",
   "nbconvert_exporter": "python",
   "pygments_lexer": "ipython3",
   "version": "3.11.5"
  }
 },
 "nbformat": 4,
 "nbformat_minor": 2
}
