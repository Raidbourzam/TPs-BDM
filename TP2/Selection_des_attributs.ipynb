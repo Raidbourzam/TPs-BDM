{
 "cells": [
  {
   "cell_type": "markdown",
   "metadata": {},
   "source": [
    "## SELECTION DES ATTRIBUTS"
   ]
  },
  {
   "cell_type": "markdown",
   "metadata": {},
   "source": [
    "#### EXO1"
   ]
  },
  {
   "cell_type": "markdown",
   "metadata": {},
   "source": [
    "#### EXO2"
   ]
  },
  {
   "cell_type": "code",
   "execution_count": 642,
   "metadata": {},
   "outputs": [],
   "source": [
    "import pandas as pd"
   ]
  },
  {
   "cell_type": "code",
   "execution_count": 643,
   "metadata": {},
   "outputs": [
    {
     "name": "stdout",
     "output_type": "stream",
     "text": [
      "Index(['Unnamed: 0', 'Ozone', 'Solar.R', 'Wind', 'Temp', 'Month', 'Day'], dtype='object')\n"
     ]
    }
   ],
   "source": [
    "import numpy as np\n",
    "\n",
    "url = \"./airquality.csv\"\n",
    "data = pd.read_csv(url, sep=',')\n",
    "\n",
    "data = data[~np.isnan(data).any(axis=1)]\n",
    "\n",
    "print(data.columns)"
   ]
  },
  {
   "cell_type": "code",
   "execution_count": 644,
   "metadata": {},
   "outputs": [
    {
     "data": {
      "text/plain": [
       "(111, 7)"
      ]
     },
     "execution_count": 644,
     "metadata": {},
     "output_type": "execute_result"
    }
   ],
   "source": [
    "data.shape"
   ]
  },
  {
   "cell_type": "code",
   "execution_count": 645,
   "metadata": {},
   "outputs": [
    {
     "data": {
      "text/plain": [
       "Index(['Unnamed: 0', 'Ozone', 'Solar.R', 'Wind', 'Temp', 'Month', 'Day'], dtype='object')"
      ]
     },
     "execution_count": 645,
     "metadata": {},
     "output_type": "execute_result"
    }
   ],
   "source": [
    "data.columns"
   ]
  },
  {
   "cell_type": "code",
   "execution_count": 646,
   "metadata": {},
   "outputs": [
    {
     "data": {
      "text/html": [
       "<div>\n",
       "<style scoped>\n",
       "    .dataframe tbody tr th:only-of-type {\n",
       "        vertical-align: middle;\n",
       "    }\n",
       "\n",
       "    .dataframe tbody tr th {\n",
       "        vertical-align: top;\n",
       "    }\n",
       "\n",
       "    .dataframe thead th {\n",
       "        text-align: right;\n",
       "    }\n",
       "</style>\n",
       "<table border=\"1\" class=\"dataframe\">\n",
       "  <thead>\n",
       "    <tr style=\"text-align: right;\">\n",
       "      <th></th>\n",
       "      <th>Unnamed: 0</th>\n",
       "      <th>Ozone</th>\n",
       "      <th>Solar.R</th>\n",
       "      <th>Wind</th>\n",
       "      <th>Temp</th>\n",
       "      <th>Month</th>\n",
       "      <th>Day</th>\n",
       "    </tr>\n",
       "  </thead>\n",
       "  <tbody>\n",
       "    <tr>\n",
       "      <th>0</th>\n",
       "      <td>1</td>\n",
       "      <td>41.0</td>\n",
       "      <td>190.0</td>\n",
       "      <td>7.4</td>\n",
       "      <td>67</td>\n",
       "      <td>5</td>\n",
       "      <td>1</td>\n",
       "    </tr>\n",
       "    <tr>\n",
       "      <th>1</th>\n",
       "      <td>2</td>\n",
       "      <td>36.0</td>\n",
       "      <td>118.0</td>\n",
       "      <td>8.0</td>\n",
       "      <td>72</td>\n",
       "      <td>5</td>\n",
       "      <td>2</td>\n",
       "    </tr>\n",
       "    <tr>\n",
       "      <th>2</th>\n",
       "      <td>3</td>\n",
       "      <td>12.0</td>\n",
       "      <td>149.0</td>\n",
       "      <td>12.6</td>\n",
       "      <td>74</td>\n",
       "      <td>5</td>\n",
       "      <td>3</td>\n",
       "    </tr>\n",
       "    <tr>\n",
       "      <th>3</th>\n",
       "      <td>4</td>\n",
       "      <td>18.0</td>\n",
       "      <td>313.0</td>\n",
       "      <td>11.5</td>\n",
       "      <td>62</td>\n",
       "      <td>5</td>\n",
       "      <td>4</td>\n",
       "    </tr>\n",
       "    <tr>\n",
       "      <th>6</th>\n",
       "      <td>7</td>\n",
       "      <td>23.0</td>\n",
       "      <td>299.0</td>\n",
       "      <td>8.6</td>\n",
       "      <td>65</td>\n",
       "      <td>5</td>\n",
       "      <td>7</td>\n",
       "    </tr>\n",
       "  </tbody>\n",
       "</table>\n",
       "</div>"
      ],
      "text/plain": [
       "   Unnamed: 0  Ozone  Solar.R  Wind  Temp  Month  Day\n",
       "0           1   41.0    190.0   7.4    67      5    1\n",
       "1           2   36.0    118.0   8.0    72      5    2\n",
       "2           3   12.0    149.0  12.6    74      5    3\n",
       "3           4   18.0    313.0  11.5    62      5    4\n",
       "6           7   23.0    299.0   8.6    65      5    7"
      ]
     },
     "execution_count": 646,
     "metadata": {},
     "output_type": "execute_result"
    }
   ],
   "source": [
    "data.head()"
   ]
  },
  {
   "cell_type": "code",
   "execution_count": 647,
   "metadata": {},
   "outputs": [],
   "source": [
    "data = data.drop(data.columns[0], axis=1) "
   ]
  },
  {
   "cell_type": "markdown",
   "metadata": {},
   "source": [
    "Correlation matrix"
   ]
  },
  {
   "cell_type": "code",
   "execution_count": 648,
   "metadata": {},
   "outputs": [
    {
     "name": "stdout",
     "output_type": "stream",
     "text": [
      "            Ozone   Solar.R      Wind      Temp     Month       Day\n",
      "Ozone    1.000000  0.348342 -0.612497  0.698541  0.142885 -0.005190\n",
      "Solar.R  0.348342  1.000000 -0.127183  0.294088 -0.074067 -0.057754\n",
      "Wind    -0.612497 -0.127183  1.000000 -0.497190 -0.194496  0.049871\n",
      "Temp     0.698541  0.294088 -0.497190  1.000000  0.403972 -0.096546\n",
      "Month    0.142885 -0.074067 -0.194496  0.403972  1.000000 -0.009001\n",
      "Day     -0.005190 -0.057754  0.049871 -0.096546 -0.009001  1.000000\n"
     ]
    }
   ],
   "source": [
    "df = pd.DataFrame(data)\n",
    "\n",
    "correlation = df.corr()\n",
    "print(correlation)"
   ]
  },
  {
   "cell_type": "code",
   "execution_count": 649,
   "metadata": {},
   "outputs": [
    {
     "data": {
      "image/png": "[encoded data removed]",
      "text/plain": [
       "<Figure size 640x480 with 1 Axes>"
      ]
     },
     "metadata": {},
     "output_type": "display_data"
    }
   ],
   "source": [
    "import matplotlib.pyplot as plt\n",
    "\n",
    "\n",
    "plt.hist(data[\"Ozone\"], bins=data.shape[0])\n",
    "\n",
    "plt.xlabel(\"Ozone Concentration (ppb)\")\n",
    "plt.ylabel(\"Frequency\")\n",
    "plt.title(\"Histogram of Ozone Concentrations\")\n",
    "\n",
    "plt.show()"
   ]
  },
  {
   "cell_type": "markdown",
   "metadata": {},
   "source": [
    "### preparation des training_data et test_data "
   ]
  },
  {
   "cell_type": "code",
   "execution_count": 650,
   "metadata": {},
   "outputs": [],
   "source": [
    "from sklearn.linear_model import Ridge\n",
    "\n",
    "\n",
    "\n",
    "alpha = 1.0\n",
    "\n",
    "\n",
    "ridge = Ridge(alpha=alpha)"
   ]
  },
  {
   "cell_type": "markdown",
   "metadata": {},
   "source": [
    "# Linear regression"
   ]
  },
  {
   "cell_type": "code",
   "execution_count": 651,
   "metadata": {},
   "outputs": [
    {
     "data": {
      "text/plain": [
       "(111, 6)"
      ]
     },
     "execution_count": 651,
     "metadata": {},
     "output_type": "execute_result"
    }
   ],
   "source": [
    "data.shape"
   ]
  },
  {
   "cell_type": "code",
   "execution_count": 652,
   "metadata": {},
   "outputs": [],
   "source": [
    "x = data['Wind']\n",
    "y = data['Ozone']"
   ]
  },
  {
   "cell_type": "code",
   "execution_count": 653,
   "metadata": {},
   "outputs": [
    {
     "data": {
      "image/png": "[encoded data removed]",
      "text/plain": [
       "<Figure size 640x480 with 1 Axes>"
      ]
     },
     "metadata": {},
     "output_type": "display_data"
    }
   ],
   "source": [
    "# Creating a scatter plot to visualize the generated data\n",
    "# - x: Independent variable values (abscissa)\n",
    "# - y: Dependent variable values (ordinate)\n",
    "plt.scatter(x, y)\n",
    "\n",
    "# Adding labels to the axes\n",
    "plt.xlabel('X')\n",
    "plt.ylabel('Y')\n",
    "\n",
    "# Displaying the plot\n",
    "plt.show()"
   ]
  },
  {
   "cell_type": "code",
   "execution_count": 654,
   "metadata": {},
   "outputs": [
    {
     "name": "stdout",
     "output_type": "stream",
     "text": [
      "(111, 1)\n"
     ]
    }
   ],
   "source": [
    "import numpy as np\n",
    "\n",
    "# Convertir la série pandas en un tableau numpy\n",
    "y_array = y.to_numpy()  # ou bien y.values\n",
    "\n",
    "# dataliquer reshape sur le tableau numpy\n",
    "y= y_array.reshape(y.shape[0], 1)\n",
    "\n",
    "# Afficher la nouvelle forme de y après le remodelage\n",
    "print(y.shape)"
   ]
  },
  {
   "cell_type": "code",
   "execution_count": 655,
   "metadata": {},
   "outputs": [
    {
     "name": "stdout",
     "output_type": "stream",
     "text": [
      "(111, 1)\n"
     ]
    }
   ],
   "source": [
    "x_array = x.to_numpy()\n",
    "x= x_array.reshape(x.shape[0], 1)\n",
    "print(x.shape)"
   ]
  },
  {
   "cell_type": "code",
   "execution_count": 656,
   "metadata": {},
   "outputs": [
    {
     "name": "stdout",
     "output_type": "stream",
     "text": [
      "(111, 2)\n"
     ]
    }
   ],
   "source": [
    "X = np.hstack((x, np.ones(x.shape)))\n",
    "print(X.shape)"
   ]
  },
  {
   "cell_type": "code",
   "execution_count": 657,
   "metadata": {},
   "outputs": [
    {
     "data": {
      "text/plain": [
       "array([[1.76405235],\n",
       "       [0.40015721]])"
      ]
     },
     "execution_count": 657,
     "metadata": {},
     "output_type": "execute_result"
    }
   ],
   "source": [
    "np.random.seed(0)  # Set the seed for reproducibility\n",
    "\n",
    "# Generate a random vector theta with shape (2, 1) using a standard normal distribution\n",
    "# The shape is (2, 1) indicating it's a column vector with 2 rows and 1 column\n",
    "theta = np.random.randn(2, 1)\n",
    "\n",
    "# Display the generated random vector theta\n",
    "theta"
   ]
  },
  {
   "cell_type": "code",
   "execution_count": 658,
   "metadata": {},
   "outputs": [
    {
     "data": {
      "text/plain": [
       "(111, 2)"
      ]
     },
     "execution_count": 658,
     "metadata": {},
     "output_type": "execute_result"
    }
   ],
   "source": [
    "X.shape"
   ]
  },
  {
   "cell_type": "code",
   "execution_count": 659,
   "metadata": {},
   "outputs": [
    {
     "data": {
      "text/plain": [
       "(2, 1)"
      ]
     },
     "execution_count": 659,
     "metadata": {},
     "output_type": "execute_result"
    }
   ],
   "source": [
    "theta.shape"
   ]
  },
  {
   "cell_type": "code",
   "execution_count": 660,
   "metadata": {},
   "outputs": [],
   "source": [
    "def Linear_model(X, theta):\n",
    "    return X.dot(theta)"
   ]
  },
  {
   "cell_type": "code",
   "execution_count": 661,
   "metadata": {},
   "outputs": [
    {
     "data": {
      "text/plain": [
       "(111, 1)"
      ]
     },
     "execution_count": 661,
     "metadata": {},
     "output_type": "execute_result"
    }
   ],
   "source": [
    "Linear_model(X, theta).shape"
   ]
  },
  {
   "cell_type": "code",
   "execution_count": 662,
   "metadata": {},
   "outputs": [
    {
     "data": {
      "text/plain": [
       "(111, 1)"
      ]
     },
     "execution_count": 662,
     "metadata": {},
     "output_type": "execute_result"
    }
   ],
   "source": [
    "x.shape"
   ]
  },
  {
   "cell_type": "code",
   "execution_count": 663,
   "metadata": {},
   "outputs": [
    {
     "data": {
      "text/plain": [
       "(111, 1)"
      ]
     },
     "execution_count": 663,
     "metadata": {},
     "output_type": "execute_result"
    }
   ],
   "source": [
    "y.shape"
   ]
  },
  {
   "cell_type": "code",
   "execution_count": 664,
   "metadata": {},
   "outputs": [
    {
     "data": {
      "text/plain": [
       "[<matplotlib.lines.Line2D at 0x19b123a5bd0>]"
      ]
     },
     "execution_count": 664,
     "metadata": {},
     "output_type": "execute_result"
    },
    {
     "data": {
      "image/png": "[encoded data removed]",
      "text/plain": [
       "<Figure size 640x480 with 1 Axes>"
      ]
     },
     "metadata": {},
     "output_type": "display_data"
    }
   ],
   "source": [
    "plt.scatter(x, y)\n",
    "plt.plot(x, Linear_model(X, theta), c='red')"
   ]
  },
  {
   "cell_type": "code",
   "execution_count": 665,
   "metadata": {},
   "outputs": [],
   "source": [
    "def cost_function(X, y, theta):\n",
    "    m = len(y)\n",
    "    return 1/(2*m) * np.sum((Linear_model(X, theta) - y)**2)"
   ]
  },
  {
   "cell_type": "code",
   "execution_count": 666,
   "metadata": {},
   "outputs": [
    {
     "data": {
      "text/plain": [
       "(111, 2)"
      ]
     },
     "execution_count": 666,
     "metadata": {},
     "output_type": "execute_result"
    }
   ],
   "source": [
    "X.shape"
   ]
  },
  {
   "cell_type": "code",
   "execution_count": 667,
   "metadata": {},
   "outputs": [
    {
     "data": {
      "text/plain": [
       "(111, 1)"
      ]
     },
     "execution_count": 667,
     "metadata": {},
     "output_type": "execute_result"
    }
   ],
   "source": [
    "y.shape"
   ]
  },
  {
   "cell_type": "code",
   "execution_count": 668,
   "metadata": {},
   "outputs": [
    {
     "data": {
      "text/plain": [
       "(2, 1)"
      ]
     },
     "execution_count": 668,
     "metadata": {},
     "output_type": "execute_result"
    }
   ],
   "source": [
    "theta.shape"
   ]
  },
  {
   "cell_type": "code",
   "execution_count": 669,
   "metadata": {},
   "outputs": [
    {
     "data": {
      "text/plain": [
       "986.9062405057683"
      ]
     },
     "execution_count": 669,
     "metadata": {},
     "output_type": "execute_result"
    }
   ],
   "source": [
    "cost_function(X, y, theta)"
   ]
  },
  {
   "cell_type": "code",
   "execution_count": 670,
   "metadata": {},
   "outputs": [],
   "source": [
    "def grad(X, y, theta , alpha):\n",
    "    m = len(y)\n",
    "    return 1/m * alpha * X.T.dot(Linear_model(X, theta) - y)"
   ]
  },
  {
   "cell_type": "code",
   "execution_count": 671,
   "metadata": {},
   "outputs": [],
   "source": [
    "def gradient_descent(X, y, theta, alpha, learning_rate, n_iterations):\n",
    "    \"\"\"\n",
    "    Perform gradient descent to minimize the cost function.\n",
    "\n",
    "    Parameters:\n",
    "    - X: Feature matrix (including the intercept term)\n",
    "    - y: Target values\n",
    "    - theta: Initial model parameters\n",
    "    - learning_rate: Learning rate for gradient descent\n",
    "    - n_iterations: Number of iterations for gradient descent\n",
    "\n",
    "    Returns:\n",
    "    - Optimized model parameters theta\n",
    "    - Array of cost history (evolution of cost function over iterations)\n",
    "    \"\"\"\n",
    "    cost_history = np.zeros(n_iterations)  # Create an array to store the evolution of the cost function\n",
    "    \n",
    "    for i in range(n_iterations):\n",
    "        # Update theta using gradient descent formula\n",
    "        theta = theta - learning_rate * grad(X, y, theta, alpha)\n",
    "        \n",
    "        # Calculate the cost function value and store it in the cost_history array\n",
    "        cost_history[i] = cost_function(X, y, theta)\n",
    "        \n",
    "    return theta, cost_history"
   ]
  },
  {
   "cell_type": "code",
   "execution_count": 672,
   "metadata": {},
   "outputs": [],
   "source": [
    "n_iterations = 100\n",
    "learning_rate = 0.0001\n",
    "alpha = 0.01\n",
    "\n",
    "theta_final, cost_history = gradient_descent(X, y, theta, alpha, learning_rate, n_iterations)"
   ]
  },
  {
   "cell_type": "code",
   "execution_count": 673,
   "metadata": {},
   "outputs": [
    {
     "data": {
      "text/plain": [
       "array([[1.77859141],\n",
       "       [0.40256641]])"
      ]
     },
     "execution_count": 673,
     "metadata": {},
     "output_type": "execute_result"
    }
   ],
   "source": [
    "theta_final"
   ]
  },
  {
   "cell_type": "code",
   "execution_count": 674,
   "metadata": {},
   "outputs": [
    {
     "data": {
      "text/plain": [
       "array([986.88428178, 986.86232796, 986.84037903, 986.81843501,\n",
       "       986.79649588, 986.77456165, 986.75263232, 986.73070788,\n",
       "       986.70878833, 986.68687368, 986.66496391, 986.64305904,\n",
       "       986.62115905, 986.59926396, 986.57737375, 986.55548842,\n",
       "       986.53360799, 986.51173243, 986.48986176, 986.46799596,\n",
       "       986.44613505, 986.42427902, 986.40242787, 986.38058159,\n",
       "       986.35874019, 986.33690366, 986.31507201, 986.29324522,\n",
       "       986.27142332, 986.24960628, 986.22779411, 986.2059868 ,\n",
       "       986.18418437, 986.1623868 , 986.1405941 , 986.11880626,\n",
       "       986.09702328, 986.07524517, 986.05347191, 986.03170352,\n",
       "       986.00993998, 985.9881813 , 985.96642748, 985.94467851,\n",
       "       985.92293439, 985.90119513, 985.87946072, 985.85773116,\n",
       "       985.83600645, 985.81428659, 985.79257158, 985.77086141,\n",
       "       985.74915609, 985.72745561, 985.70575998, 985.68406919,\n",
       "       985.66238324, 985.64070213, 985.61902585, 985.59735442,\n",
       "       985.57568782, 985.55402606, 985.53236913, 985.51071703,\n",
       "       985.48906977, 985.46742734, 985.44578974, 985.42415697,\n",
       "       985.40252902, 985.3809059 , 985.35928761, 985.33767414,\n",
       "       985.3160655 , 985.29446168, 985.27286268, 985.2512685 ,\n",
       "       985.22967914, 985.2080946 , 985.18651487, 985.16493997,\n",
       "       985.14336987, 985.12180459, 985.10024412, 985.07868847,\n",
       "       985.05713762, 985.03559159, 985.01405036, 984.99251394,\n",
       "       984.97098233, 984.94945552, 984.92793352, 984.90641632,\n",
       "       984.88490392, 984.86339632, 984.84189352, 984.82039552,\n",
       "       984.79890232, 984.77741392, 984.75593031, 984.73445149])"
      ]
     },
     "execution_count": 674,
     "metadata": {},
     "output_type": "execute_result"
    }
   ],
   "source": [
    "cost_history"
   ]
  },
  {
   "cell_type": "code",
   "execution_count": 675,
   "metadata": {},
   "outputs": [
    {
     "data": {
      "text/plain": [
       "[<matplotlib.lines.Line2D at 0x19b13662d50>]"
      ]
     },
     "execution_count": 675,
     "metadata": {},
     "output_type": "execute_result"
    },
    {
     "data": {
      "image/png": "[encoded data removed]",
      "text/plain": [
       "<Figure size 640x480 with 1 Axes>"
      ]
     },
     "metadata": {},
     "output_type": "display_data"
    }
   ],
   "source": [
    "# Create predictions using the trained model and final parameters\n",
    "predictions = Linear_model(X, theta_final)\n",
    "\n",
    "# Plot the original data (in blue) and the predictions (in red)\n",
    "plt.scatter(x, y)  # Scatter plot of the original data\n",
    "plt.plot(x, predictions, c='r')  # Plot predictions against the x values"
   ]
  },
  {
   "cell_type": "code",
   "execution_count": 676,
   "metadata": {},
   "outputs": [
    {
     "data": {
      "text/plain": [
       "[<matplotlib.lines.Line2D at 0x19b136d94d0>]"
      ]
     },
     "execution_count": 676,
     "metadata": {},
     "output_type": "execute_result"
    },
    {
     "data": {
      "image/png": "[encoded data removed]",
      "text/plain": [
       "<Figure size 640x480 with 1 Axes>"
      ]
     },
     "metadata": {},
     "output_type": "display_data"
    }
   ],
   "source": [
    "plt.plot(range(n_iterations), cost_history)"
   ]
  },
  {
   "cell_type": "code",
   "execution_count": 677,
   "metadata": {},
   "outputs": [],
   "source": [
    "def coef_determination(y, pred):\n",
    "    \"\"\"\n",
    "    Calculate the coefficient of determination (R^2 score).\n",
    "\n",
    "    Parameters:\n",
    "    - y: Array of true values\n",
    "    - pred: Array of predicted values\n",
    "\n",
    "    Returns:\n",
    "    - Coefficient of determination (R^2 score)\n",
    "    \"\"\"\n",
    "    u = ((y - pred)**2).sum()  # Sum of squared residuals (unexplained variance)\n",
    "    v = ((y - y.mean())**2).sum()  # Total sum of squares (total variance)\n",
    "    return 1 - u/v  # Coefficient of determination formula"
   ]
  },
  {
   "cell_type": "code",
   "execution_count": 678,
   "metadata": {},
   "outputs": [
    {
     "data": {
      "text/plain": [
       "-0.7948080485175968"
      ]
     },
     "execution_count": 678,
     "metadata": {},
     "output_type": "execute_result"
    }
   ],
   "source": [
    "coef_determination(y, predictions)"
   ]
  }
 ],
 "metadata": {
  "kernelspec": {
   "display_name": "Python 3",
   "language": "python",
   "name": "python3"
  },
  "language_info": {
   "codemirror_mode": {
    "name": "ipython",
    "version": 3
   },
   "file_extension": ".py",
   "mimetype": "text/x-python",
   "name": "python",
   "nbconvert_exporter": "python",
   "pygments_lexer": "ipython3",
   "version": "3.11.5"
  }
 },
 "nbformat": 4,
 "nbformat_minor": 2
}
