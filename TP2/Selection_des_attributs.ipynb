{
 "cells": [
  {
   "cell_type": "markdown",
   "metadata": {},
   "source": [
    "## SELECTION DES ATTRIBUTS"
   ]
  },
  {
   "cell_type": "markdown",
   "metadata": {},
   "source": [
    "#### EXO1"
   ]
  },
  {
   "cell_type": "markdown",
   "metadata": {},
   "source": [
    "#### EXO2"
   ]
  },
  {
   "cell_type": "code",
   "execution_count": 2072,
   "metadata": {},
   "outputs": [],
   "source": [
    "import pandas as pd"
   ]
  },
  {
   "cell_type": "code",
   "execution_count": 2073,
   "metadata": {},
   "outputs": [
    {
     "name": "stdout",
     "output_type": "stream",
     "text": [
      "Index(['Unnamed: 0', 'Ozone', 'Solar.R', 'Wind', 'Temp', 'Month', 'Day'], dtype='object')\n"
     ]
    }
   ],
   "source": [
    "import numpy as np\n",
    "\n",
    "url = \"./airquality.csv\"\n",
    "data = pd.read_csv(url, sep=',')\n",
    "\n",
    "data = data[~np.isnan(data).any(axis=1)]\n",
    "\n",
    "print(data.columns)"
   ]
  },
  {
   "cell_type": "code",
   "execution_count": 2074,
   "metadata": {},
   "outputs": [
    {
     "data": {
      "text/plain": [
       "(111, 7)"
      ]
     },
     "execution_count": 2074,
     "metadata": {},
     "output_type": "execute_result"
    }
   ],
   "source": [
    "data.shape"
   ]
  },
  {
   "cell_type": "code",
   "execution_count": 2075,
   "metadata": {},
   "outputs": [
    {
     "data": {
      "text/plain": [
       "Index(['Unnamed: 0', 'Ozone', 'Solar.R', 'Wind', 'Temp', 'Month', 'Day'], dtype='object')"
      ]
     },
     "execution_count": 2075,
     "metadata": {},
     "output_type": "execute_result"
    }
   ],
   "source": [
    "data.columns"
   ]
  },
  {
   "cell_type": "code",
   "execution_count": 2076,
   "metadata": {},
   "outputs": [
    {
     "data": {
      "text/html": [
       "<div>\n",
       "<style scoped>\n",
       "    .dataframe tbody tr th:only-of-type {\n",
       "        vertical-align: middle;\n",
       "    }\n",
       "\n",
       "    .dataframe tbody tr th {\n",
       "        vertical-align: top;\n",
       "    }\n",
       "\n",
       "    .dataframe thead th {\n",
       "        text-align: right;\n",
       "    }\n",
       "</style>\n",
       "<table border=\"1\" class=\"dataframe\">\n",
       "  <thead>\n",
       "    <tr style=\"text-align: right;\">\n",
       "      <th></th>\n",
       "      <th>Unnamed: 0</th>\n",
       "      <th>Ozone</th>\n",
       "      <th>Solar.R</th>\n",
       "      <th>Wind</th>\n",
       "      <th>Temp</th>\n",
       "      <th>Month</th>\n",
       "      <th>Day</th>\n",
       "    </tr>\n",
       "  </thead>\n",
       "  <tbody>\n",
       "    <tr>\n",
       "      <th>0</th>\n",
       "      <td>1</td>\n",
       "      <td>41.0</td>\n",
       "      <td>190.0</td>\n",
       "      <td>7.4</td>\n",
       "      <td>67</td>\n",
       "      <td>5</td>\n",
       "      <td>1</td>\n",
       "    </tr>\n",
       "    <tr>\n",
       "      <th>1</th>\n",
       "      <td>2</td>\n",
       "      <td>36.0</td>\n",
       "      <td>118.0</td>\n",
       "      <td>8.0</td>\n",
       "      <td>72</td>\n",
       "      <td>5</td>\n",
       "      <td>2</td>\n",
       "    </tr>\n",
       "    <tr>\n",
       "      <th>2</th>\n",
       "      <td>3</td>\n",
       "      <td>12.0</td>\n",
       "      <td>149.0</td>\n",
       "      <td>12.6</td>\n",
       "      <td>74</td>\n",
       "      <td>5</td>\n",
       "      <td>3</td>\n",
       "    </tr>\n",
       "    <tr>\n",
       "      <th>3</th>\n",
       "      <td>4</td>\n",
       "      <td>18.0</td>\n",
       "      <td>313.0</td>\n",
       "      <td>11.5</td>\n",
       "      <td>62</td>\n",
       "      <td>5</td>\n",
       "      <td>4</td>\n",
       "    </tr>\n",
       "    <tr>\n",
       "      <th>6</th>\n",
       "      <td>7</td>\n",
       "      <td>23.0</td>\n",
       "      <td>299.0</td>\n",
       "      <td>8.6</td>\n",
       "      <td>65</td>\n",
       "      <td>5</td>\n",
       "      <td>7</td>\n",
       "    </tr>\n",
       "  </tbody>\n",
       "</table>\n",
       "</div>"
      ],
      "text/plain": [
       "   Unnamed: 0  Ozone  Solar.R  Wind  Temp  Month  Day\n",
       "0           1   41.0    190.0   7.4    67      5    1\n",
       "1           2   36.0    118.0   8.0    72      5    2\n",
       "2           3   12.0    149.0  12.6    74      5    3\n",
       "3           4   18.0    313.0  11.5    62      5    4\n",
       "6           7   23.0    299.0   8.6    65      5    7"
      ]
     },
     "execution_count": 2076,
     "metadata": {},
     "output_type": "execute_result"
    }
   ],
   "source": [
    "data.head()"
   ]
  },
  {
   "cell_type": "code",
   "execution_count": 2077,
   "metadata": {},
   "outputs": [],
   "source": [
    "data = data.drop(data.columns[0], axis=1) "
   ]
  },
  {
   "cell_type": "code",
   "execution_count": 2078,
   "metadata": {},
   "outputs": [],
   "source": [
    "from sklearn.preprocessing import MinMaxScaler\n",
    "\n",
    "\n",
    "numeric_columns = data.select_dtypes(include=['int', 'float']).columns\n",
    "\n",
    "scaler = MinMaxScaler()\n",
    "\n",
    "data[numeric_columns] = scaler.fit_transform(data[numeric_columns])"
   ]
  },
  {
   "cell_type": "markdown",
   "metadata": {},
   "source": [
    "Correlation matrix"
   ]
  },
  {
   "cell_type": "code",
   "execution_count": 2079,
   "metadata": {},
   "outputs": [
    {
     "name": "stdout",
     "output_type": "stream",
     "text": [
      "            Ozone   Solar.R      Wind      Temp     Month       Day\n",
      "Ozone    1.000000  0.348342 -0.612497  0.698541  0.142885 -0.005190\n",
      "Solar.R  0.348342  1.000000 -0.127183  0.294088 -0.074067 -0.057754\n",
      "Wind    -0.612497 -0.127183  1.000000 -0.497190 -0.194496  0.049871\n",
      "Temp     0.698541  0.294088 -0.497190  1.000000  0.403972 -0.096546\n",
      "Month    0.142885 -0.074067 -0.194496  0.403972  1.000000 -0.009001\n",
      "Day     -0.005190 -0.057754  0.049871 -0.096546 -0.009001  1.000000\n"
     ]
    }
   ],
   "source": [
    "df = pd.DataFrame(data)\n",
    "\n",
    "correlation = df.corr()\n",
    "print(correlation)"
   ]
  },
  {
   "cell_type": "code",
   "execution_count": 2080,
   "metadata": {},
   "outputs": [
    {
     "data": {
      "image/png": "[encoded data removed]",
      "text/plain": [
       "<Figure size 640x480 with 1 Axes>"
      ]
     },
     "metadata": {},
     "output_type": "display_data"
    }
   ],
   "source": [
    "import matplotlib.pyplot as plt\n",
    "\n",
    "\n",
    "plt.hist(data[\"Ozone\"], bins=data.shape[0])\n",
    "\n",
    "plt.xlabel(\"Ozone Concentration (ppb)\")\n",
    "plt.ylabel(\"Frequency\")\n",
    "plt.title(\"Histogram of Ozone Concentrations\")\n",
    "\n",
    "plt.show()"
   ]
  },
  {
   "cell_type": "markdown",
   "metadata": {},
   "source": [
    "### preparation des training_data et test_data "
   ]
  },
  {
   "cell_type": "markdown",
   "metadata": {},
   "source": [
    "# Linear regression"
   ]
  },
  {
   "cell_type": "code",
   "execution_count": 2081,
   "metadata": {},
   "outputs": [
    {
     "data": {
      "text/plain": [
       "(111, 6)"
      ]
     },
     "execution_count": 2081,
     "metadata": {},
     "output_type": "execute_result"
    }
   ],
   "source": [
    "data.shape"
   ]
  },
  {
   "cell_type": "code",
   "execution_count": 2082,
   "metadata": {},
   "outputs": [
    {
     "name": "stdout",
     "output_type": "stream",
     "text": [
      "(111, 5)\n",
      "(111,)\n"
     ]
    }
   ],
   "source": [
    "x = df.drop('Ozone', axis=1)\n",
    "y = data['Ozone']\n",
    "print(x.shape)\n",
    "print(y.shape)"
   ]
  },
  {
   "cell_type": "code",
   "execution_count": 2083,
   "metadata": {},
   "outputs": [
    {
     "data": {
      "text/plain": [
       "(111, 6)"
      ]
     },
     "execution_count": 2083,
     "metadata": {},
     "output_type": "execute_result"
    }
   ],
   "source": [
    "ones_column = np.ones((x.shape[0], 1))\n",
    "x = np.hstack((ones_column, x))\n",
    "x.shape"
   ]
  },
  {
   "cell_type": "code",
   "execution_count": 2084,
   "metadata": {},
   "outputs": [
    {
     "name": "stdout",
     "output_type": "stream",
     "text": [
      "[[1.         0.55963303 0.27717391 0.25       0.         0.        ]\n",
      " [1.         0.33944954 0.30978261 0.375      0.         0.03333333]\n",
      " [1.         0.43425076 0.55978261 0.425      0.         0.06666667]\n",
      " [1.         0.93577982 0.5        0.125      0.         0.1       ]\n",
      " [1.         0.89296636 0.3423913  0.2        0.         0.2       ]\n",
      " [1.         0.28134557 0.625      0.05       0.         0.23333333]\n",
      " [1.         0.03669725 0.9673913  0.1        0.         0.26666667]\n",
      " [1.         0.76146789 0.40217391 0.3        0.         0.36666667]\n",
      " [1.         0.86544343 0.375      0.225      0.         0.4       ]\n",
      " [1.         0.81651376 0.4673913  0.275      0.         0.43333333]\n",
      " [1.         0.17737003 0.5923913  0.025      0.         0.46666667]\n",
      " [1.         1.         0.5        0.175      0.         0.5       ]\n",
      " [1.         0.91743119 0.52717391 0.225      0.         0.53333333]\n",
      " [1.         0.21712538 0.875      0.         0.         0.56666667]\n",
      " [1.         0.96330275 0.5        0.275      0.         0.6       ]\n",
      " [1.         0.11314985 0.40217391 0.125      0.         0.63333333]\n",
      " [1.         0.0030581  0.40217391 0.05       0.         0.66666667]\n",
      " [1.         0.95718654 0.77717391 0.4        0.         0.7       ]\n",
      " [1.         0.05504587 0.40217391 0.1        0.         0.73333333]\n",
      " [1.         0.25993884 0.52717391 0.1        0.         0.76666667]\n",
      " [1.         0.01834862 0.52717391 0.25       0.         0.9       ]\n",
      " [1.         0.74923547 0.68478261 0.6        0.         0.93333333]\n",
      " [1.         0.66055046 0.18478261 0.55       0.         0.96666667]\n",
      " [1.         0.83180428 0.27717391 0.475      0.         1.        ]\n",
      " [1.         0.36697248 0.40217391 0.625      0.25       0.2       ]\n",
      " [1.         0.86850153 0.625      0.825      0.25       0.26666667]\n",
      " [1.         0.96636086 0.5        0.75       0.25       0.3       ]\n",
      " [1.         0.43119266 0.30978261 0.625      0.25       0.4       ]\n",
      " [1.         0.56269113 0.68478261 0.5        0.25       0.5       ]\n",
      " [1.         0.8470948  1.         0.375      0.25       0.53333333]\n",
      " [1.         0.09174312 0.375      0.2        0.25       0.56666667]\n",
      " [1.         0.34556575 0.5        0.4        0.25       0.6       ]\n",
      " [1.         0.39755352 0.43478261 0.475      0.25       0.63333333]\n",
      " [1.         0.80122324 0.09782609 0.675      0.5        0.        ]\n",
      " [1.         0.73700306 0.375      0.7        0.5        0.03333333]\n",
      " [1.         0.70030581 0.375      0.6        0.5        0.06666667]\n",
      " [1.         0.51376147 0.125      0.65       0.5        0.13333333]\n",
      " [1.         0.93883792 0.4673913  0.65       0.5        0.16666667]\n",
      " [1.         0.82262997 0.15217391 0.775      0.5        0.2       ]\n",
      " [1.         0.79510703 0.2173913  0.875      0.5        0.23333333]\n",
      " [1.         0.81039755 0.18478261 0.875      0.5        0.26666667]\n",
      " [1.         0.51376147 0.27717391 0.8        0.5        0.3       ]\n",
      " [1.         0.78593272 0.65217391 0.4        0.5        0.36666667]\n",
      " [1.         0.51376147 0.68478261 0.6        0.5        0.4       ]\n",
      " [1.         0.12538226 0.65217391 0.575      0.5        0.46666667]\n",
      " [1.         0.77370031 0.25       0.6        0.5        0.5       ]\n",
      " [1.         0.81651376 0.43478261 0.625      0.5        0.53333333]\n",
      " [1.         0.85015291 0.2173913  0.675      0.5        0.56666667]\n",
      " [1.         0.55045872 0.15217391 0.75       0.5        0.6       ]\n",
      " [1.         0.65137615 0.5        0.7        0.5        0.63333333]\n",
      " [1.         0.         0.25       0.425      0.5        0.66666667]\n",
      " [1.         0.87767584 0.3423913  0.725      0.5        0.76666667]\n",
      " [1.         0.66055046 0.30978261 0.7        0.5        0.8       ]\n",
      " [1.         0.22629969 0.3423913  0.625      0.5        0.83333333]\n",
      " [1.         0.2293578  0.52717391 0.725      0.5        0.86666667]\n",
      " [1.         0.62996942 0.27717391 0.775      0.5        0.9       ]\n",
      " [1.         0.81957187 0.27717391 0.725      0.5        0.93333333]\n",
      " [1.         0.75229358 0.27717391 0.65       0.5        0.96666667]\n",
      " [1.         0.75535168 0.375      0.6        0.5        1.        ]\n",
      " [1.         0.2324159  0.25       0.6        0.75       0.        ]\n",
      " [1.         0.05198777 0.625      0.6        0.75       0.03333333]\n",
      " [1.         0.21406728 0.27717391 0.625      0.75       0.06666667]\n",
      " [1.         0.75840979 0.0923913  0.8        0.75       0.2       ]\n",
      " [1.         0.67889908 0.43478261 0.825      0.75       0.23333333]\n",
      " [1.         0.6116208  0.30978261 0.825      0.75       0.26666667]\n",
      " [1.         0.56574924 0.5        0.725      0.75       0.36666667]\n",
      " [1.         0.81345566 0.5        0.625      0.75       0.4       ]\n",
      " [1.         0.4587156  0.40217391 0.575      0.75       0.43333333]\n",
      " [1.         0.19571865 0.43478261 0.5        0.75       0.5       ]\n",
      " [1.         0.13455657 0.2173913  0.55       0.75       0.53333333]\n",
      " [1.         0.33027523 0.27717391 0.475      0.75       0.56666667]\n",
      " [1.         0.72477064 0.4673913  0.525      0.75       0.6       ]\n",
      " [1.         0.55963303 0.43478261 0.525      0.75       0.63333333]\n",
      " [1.         0.7706422  0.7173913  0.5        0.75       0.66666667]\n",
      " [1.         0.08868502 0.65217391 0.375      0.75       0.7       ]\n",
      " [1.         0.62691131 0.40217391 0.55       0.75       0.76666667]\n",
      " [1.         0.70642202 0.05978261 0.6        0.75       0.8       ]\n",
      " [1.         0.63608563 0.30978261 0.725      0.75       0.83333333]\n",
      " [1.         0.59938838 0.40217391 1.         0.75       0.9       ]\n",
      " [1.         0.66666667 0.         0.925      0.75       0.93333333]\n",
      " [1.         0.70336391 0.2173913  0.975      0.75       0.96666667]\n",
      " [1.         0.55351682 0.2173913  0.925      0.75       1.        ]\n",
      " [1.         0.48929664 0.25       0.85       1.         0.        ]\n",
      " [1.         0.58103976 0.15217391 0.875      1.         0.03333333]\n",
      " [1.         0.5382263  0.02717391 0.9        1.         0.06666667]\n",
      " [1.         0.55657492 0.125      0.9        1.         0.1       ]\n",
      " [1.         0.26911315 0.27717391 0.75       1.         0.13333333]\n",
      " [1.         0.25993884 0.7173913  0.675      1.         0.16666667]\n",
      " [1.         0.74923547 0.4673913  0.575      1.         0.2       ]\n",
      " [1.         0.65137615 0.43478261 0.525      1.         0.23333333]\n",
      " [1.         0.68195719 0.4673913  0.45       1.         0.26666667]\n",
      " [1.         0.7706422  0.40217391 0.4        1.         0.3       ]\n",
      " [1.         0.70030581 0.68478261 0.6        1.         0.33333333]\n",
      " [1.         0.7706422  0.7173913  0.475      1.         0.36666667]\n",
      " [1.         0.70642202 0.2173913  0.5        1.         0.4       ]\n",
      " [1.         0.05198777 0.4673913  0.35       1.         0.43333333]\n",
      " [1.         0.32110092 0.5        0.35       1.         0.46666667]\n",
      " [1.         0.70336391 0.25       0.525      1.         0.5       ]\n",
      " [1.         0.66360856 0.625      0.25       1.         0.53333333]\n",
      " [1.         0.06116208 0.43478261 0.475      1.         0.56666667]\n",
      " [1.         0.70642202 0.43478261 0.275      1.         0.6       ]\n",
      " [1.         0.59327217 0.30978261 0.625      1.         0.63333333]\n",
      " [1.         0.70642202 0.55978261 0.175      1.         0.66666667]\n",
      " [1.         0.02140673 0.375      0.35       1.         0.7       ]\n",
      " [1.         0.40366972 0.43478261 0.6        1.         0.73333333]\n",
      " [1.         0.12844037 0.43478261 0.3        1.         0.76666667]\n",
      " [1.         0.03975535 0.77717391 0.15       1.         0.8       ]\n",
      " [1.         0.56880734 0.25       0.325      1.         0.83333333]\n",
      " [1.         0.56269113 0.65217391 0.45       1.         0.9       ]\n",
      " [1.         0.37920489 0.30978261 0.475      1.         0.93333333]\n",
      " [1.         0.66055046 0.5        0.275      1.         0.96666667]]\n"
     ]
    }
   ],
   "source": [
    "print(x)"
   ]
  },
  {
   "cell_type": "code",
   "execution_count": 2085,
   "metadata": {},
   "outputs": [
    {
     "data": {
      "text/plain": [
       "6"
      ]
     },
     "execution_count": 2085,
     "metadata": {},
     "output_type": "execute_result"
    }
   ],
   "source": [
    "x.shape[1] # shape[1] nombre de columns (features)"
   ]
  },
  {
   "cell_type": "code",
   "execution_count": 2086,
   "metadata": {},
   "outputs": [
    {
     "name": "stdout",
     "output_type": "stream",
     "text": [
      "(111, 1)\n"
     ]
    }
   ],
   "source": [
    "import numpy as np\n",
    "\n",
    "y_array = y.to_numpy()\n",
    "y= y_array.reshape(y.shape[0], 1)\n",
    "print(y.shape)"
   ]
  },
  {
   "cell_type": "code",
   "execution_count": 2087,
   "metadata": {},
   "outputs": [
    {
     "data": {
      "text/plain": [
       "array([[ 1.76405235],\n",
       "       [ 0.40015721],\n",
       "       [ 0.97873798],\n",
       "       [ 2.2408932 ],\n",
       "       [ 1.86755799],\n",
       "       [-0.97727788]])"
      ]
     },
     "execution_count": 2087,
     "metadata": {},
     "output_type": "execute_result"
    }
   ],
   "source": [
    "np.random.seed(0)  \n",
    "theta = np.random.randn(x.shape[1], 1)\n",
    "theta"
   ]
  },
  {
   "cell_type": "code",
   "execution_count": 2088,
   "metadata": {},
   "outputs": [
    {
     "data": {
      "text/plain": [
       "(6, 1)"
      ]
     },
     "execution_count": 2088,
     "metadata": {},
     "output_type": "execute_result"
    }
   ],
   "source": [
    "theta.shape"
   ]
  },
  {
   "cell_type": "code",
   "execution_count": 2089,
   "metadata": {},
   "outputs": [],
   "source": [
    "n_iterations = 100\n",
    "learning_rate = 0.01\n",
    "lambda_ = 80\n"
   ]
  },
  {
   "cell_type": "code",
   "execution_count": 2090,
   "metadata": {},
   "outputs": [],
   "source": [
    "def Linear_model(x, theta):\n",
    "    return x.dot(theta)"
   ]
  },
  {
   "cell_type": "code",
   "execution_count": 2091,
   "metadata": {},
   "outputs": [
    {
     "data": {
      "text/plain": [
       "(111, 1)"
      ]
     },
     "execution_count": 2091,
     "metadata": {},
     "output_type": "execute_result"
    }
   ],
   "source": [
    "Linear_model(x, theta).shape"
   ]
  },
  {
   "cell_type": "code",
   "execution_count": 2092,
   "metadata": {},
   "outputs": [
    {
     "data": {
      "text/plain": [
       "(111, 6)"
      ]
     },
     "execution_count": 2092,
     "metadata": {},
     "output_type": "execute_result"
    }
   ],
   "source": [
    "x.shape"
   ]
  },
  {
   "cell_type": "code",
   "execution_count": 2093,
   "metadata": {},
   "outputs": [
    {
     "data": {
      "text/plain": [
       "(111, 1)"
      ]
     },
     "execution_count": 2093,
     "metadata": {},
     "output_type": "execute_result"
    }
   ],
   "source": [
    "y.shape"
   ]
  },
  {
   "cell_type": "code",
   "execution_count": 2094,
   "metadata": {},
   "outputs": [],
   "source": [
    "def cost_function(x, y, theta, lambda_):\n",
    "    m = len(y)\n",
    "    ridge_term = (lambda_ / 2*m) * np.sum(theta[1:]**2)\n",
    "    return (1/(2*m) * np.sum((Linear_model(x, theta) - y)**2)) + ridge_term"
   ]
  },
  {
   "cell_type": "code",
   "execution_count": 2095,
   "metadata": {},
   "outputs": [
    {
     "data": {
      "text/plain": [
       "(111, 6)"
      ]
     },
     "execution_count": 2095,
     "metadata": {},
     "output_type": "execute_result"
    }
   ],
   "source": [
    "x.shape"
   ]
  },
  {
   "cell_type": "code",
   "execution_count": 2096,
   "metadata": {},
   "outputs": [
    {
     "data": {
      "text/plain": [
       "(111, 1)"
      ]
     },
     "execution_count": 2096,
     "metadata": {},
     "output_type": "execute_result"
    }
   ],
   "source": [
    "y.shape"
   ]
  },
  {
   "cell_type": "code",
   "execution_count": 2097,
   "metadata": {},
   "outputs": [
    {
     "data": {
      "text/plain": [
       "(6, 1)"
      ]
     },
     "execution_count": 2097,
     "metadata": {},
     "output_type": "execute_result"
    }
   ],
   "source": [
    "theta.shape"
   ]
  },
  {
   "cell_type": "code",
   "execution_count": 2098,
   "metadata": {},
   "outputs": [
    {
     "data": {
      "text/plain": [
       "46994.2113964762"
      ]
     },
     "execution_count": 2098,
     "metadata": {},
     "output_type": "execute_result"
    }
   ],
   "source": [
    "cost_function(x, y, theta , lambda_)"
   ]
  },
  {
   "cell_type": "code",
   "execution_count": 2099,
   "metadata": {},
   "outputs": [],
   "source": [
    "def grad(x, y, theta , lambda_):\n",
    "    m = len(y)\n",
    "    grad = (1 / m) * x.T.dot(Linear_model(x, theta) - y)\n",
    "    ridge_term = (lambda_ / m) * theta\n",
    "    ridge_term[0] = 0\n",
    "    return grad + ridge_term"
   ]
  },
  {
   "cell_type": "code",
   "execution_count": 2100,
   "metadata": {},
   "outputs": [
    {
     "data": {
      "text/plain": [
       "array([[3.85461055],\n",
       "       [2.42310744],\n",
       "       [2.28354005],\n",
       "       [3.76956127],\n",
       "       [3.78559031],\n",
       "       [1.11898464]])"
      ]
     },
     "execution_count": 2100,
     "metadata": {},
     "output_type": "execute_result"
    }
   ],
   "source": [
    "grad(x, y, theta, lambda_)"
   ]
  },
  {
   "cell_type": "code",
   "execution_count": 2101,
   "metadata": {},
   "outputs": [
    {
     "data": {
      "text/plain": [
       "(6, 111)"
      ]
     },
     "execution_count": 2101,
     "metadata": {},
     "output_type": "execute_result"
    }
   ],
   "source": [
    "x.T.shape"
   ]
  },
  {
   "cell_type": "code",
   "execution_count": 2102,
   "metadata": {},
   "outputs": [
    {
     "data": {
      "text/plain": [
       "(111, 1)"
      ]
     },
     "execution_count": 2102,
     "metadata": {},
     "output_type": "execute_result"
    }
   ],
   "source": [
    "(Linear_model(x, theta) - y).shape"
   ]
  },
  {
   "cell_type": "code",
   "execution_count": 2103,
   "metadata": {},
   "outputs": [
    {
     "data": {
      "text/plain": [
       "(6, 1)"
      ]
     },
     "execution_count": 2103,
     "metadata": {},
     "output_type": "execute_result"
    }
   ],
   "source": [
    "x.T.dot(Linear_model(x, theta) - y).shape"
   ]
  },
  {
   "cell_type": "code",
   "execution_count": 2104,
   "metadata": {},
   "outputs": [],
   "source": [
    "def gradient_descent(x, y, theta, lambda_, learning_rate, n_iterations):\n",
    "\n",
    "    cost_history = np.zeros(n_iterations)\n",
    "    \n",
    "    for i in range(n_iterations):\n",
    "\n",
    "        theta = theta - learning_rate * grad(x, y, theta, lambda_)\n",
    "        \n",
    "        cost_history[i] = cost_function(x, y, theta , lambda_)\n",
    "        \n",
    "    return theta, cost_history"
   ]
  },
  {
   "cell_type": "code",
   "execution_count": 2105,
   "metadata": {},
   "outputs": [],
   "source": [
    "theta_final, cost_history = gradient_descent(x, y, theta, lambda_, learning_rate, n_iterations)"
   ]
  },
  {
   "cell_type": "code",
   "execution_count": 2106,
   "metadata": {},
   "outputs": [
    {
     "data": {
      "text/plain": [
       "array([[ 0.44778429],\n",
       "       [-0.23633299],\n",
       "       [ 0.1407096 ],\n",
       "       [ 0.62969434],\n",
       "       [ 0.36482504],\n",
       "       [-0.81211946]])"
      ]
     },
     "execution_count": 2106,
     "metadata": {},
     "output_type": "execute_result"
    }
   ],
   "source": [
    "theta_final"
   ]
  },
  {
   "cell_type": "code",
   "execution_count": 2107,
   "metadata": {},
   "outputs": [
    {
     "data": {
      "text/plain": [
       "array([45446.5665711 , 43968.51650987, 42556.44243949, 41206.92299725,\n",
       "       39916.72331781, 38682.78472516, 37502.21499632, 36372.27916488,\n",
       "       35290.39083447, 34254.10397401, 33261.10516772, 32309.20629501,\n",
       "       31396.33761608, 30520.54124089, 29679.96496026, 28872.8564188 ,\n",
       "       28097.55761101, 27352.49968228, 26636.1980182 , 25947.24760589,\n",
       "       25284.31865248, 24646.15244633, 24031.55744764, 23439.40559555,\n",
       "       22868.62881993, 22318.21574632, 21787.20858344, 21274.70018301,\n",
       "       20779.83126248, 20301.78778141, 19839.79846325, 19393.1324542 ,\n",
       "       18961.09711171, 18543.0359153 , 18138.32649311, 17746.37875745,\n",
       "       17366.63314367, 16998.55894631, 16641.65274729, 16295.436931  ,\n",
       "       15959.45828149, 15633.28665715, 15316.51373861, 15008.75184587,\n",
       "       14709.63282067, 14418.80697063, 14135.94207161, 13860.7224252 ,\n",
       "       13592.84796812, 13332.03343079, 13078.00754224, 12830.51227892,\n",
       "       12589.3021548 , 12354.14355062, 12124.81408003, 11901.10199067,\n",
       "       11682.80559811, 11469.73275098, 11261.70032544, 11058.53374744,\n",
       "       10860.06654124, 10666.13990264, 10476.60229562, 10291.30907113,\n",
       "       10110.12210674,  9932.90946599,  9759.54507636,  9589.90842493,\n",
       "        9423.88427054,  9261.36237176,  9102.2372296 ,  8946.40784437,\n",
       "        8793.7774856 ,  8644.25347463,  8497.74697893,  8354.17281759,\n",
       "        8213.4492774 ,  8075.49793879,  7940.24351134,  7807.61367801,\n",
       "        7677.53894793,  7549.95251697,  7424.79013596,  7301.98998588,\n",
       "        7181.49255981,  7063.24055119,  6947.17874802,  6833.25393279,\n",
       "        6721.41478765,  6611.61180468,  6503.79720093,  6397.92483796,\n",
       "        6293.95014555,  6191.83004961,  6091.52290369,  5992.98842423,\n",
       "        5896.18762917,  5801.08277969,  5707.6373251 ,  5615.81585053])"
      ]
     },
     "execution_count": 2107,
     "metadata": {},
     "output_type": "execute_result"
    }
   ],
   "source": [
    "cost_history"
   ]
  },
  {
   "cell_type": "code",
   "execution_count": 2108,
   "metadata": {},
   "outputs": [
    {
     "data": {
      "text/plain": [
       "<mpl_toolkits.mplot3d.art3d.Path3DCollection at 0x19b1b644f50>"
      ]
     },
     "execution_count": 2108,
     "metadata": {},
     "output_type": "execute_result"
    },
    {
     "data": {
      "image/png": "[encoded data removed]",
      "text/plain": [
       "<Figure size 640x480 with 1 Axes>"
      ]
     },
     "metadata": {},
     "output_type": "display_data"
    }
   ],
   "source": [
    "predictions = Linear_model(x, theta_final)\n",
    "\n",
    "fig = plt.figure()\n",
    "ax = fig.add_subplot(111, projection='3d')\n",
    "\n",
    "ax.scatter(x[:,0], x[:,1], y)\n",
    "ax.scatter(x[:,0], x[:,1], predictions)"
   ]
  },
  {
   "cell_type": "code",
   "execution_count": 2109,
   "metadata": {},
   "outputs": [
    {
     "data": {
      "text/plain": [
       "[<matplotlib.lines.Line2D at 0x19b1b7c1b90>]"
      ]
     },
     "execution_count": 2109,
     "metadata": {},
     "output_type": "execute_result"
    },
    {
     "data": {
      "image/png": "[encoded data removed]",
      "text/plain": [
       "<Figure size 640x480 with 1 Axes>"
      ]
     },
     "metadata": {},
     "output_type": "display_data"
    }
   ],
   "source": [
    "plt.plot(range(n_iterations), cost_history)"
   ]
  },
  {
   "cell_type": "code",
   "execution_count": 2110,
   "metadata": {},
   "outputs": [],
   "source": [
    "def coef_determination(y, pred):\n",
    "\n",
    "    u = ((y - pred)**2).sum()\n",
    "    v = ((y - y.mean())**2).sum()\n",
    "    return 1 - u/v"
   ]
  },
  {
   "cell_type": "code",
   "execution_count": 2111,
   "metadata": {},
   "outputs": [
    {
     "data": {
      "text/plain": [
       "-3.6568275251044486"
      ]
     },
     "execution_count": 2111,
     "metadata": {},
     "output_type": "execute_result"
    }
   ],
   "source": [
    "coef_determination(y, predictions)"
   ]
  }
 ],
 "metadata": {
  "kernelspec": {
   "display_name": "Python 3",
   "language": "python",
   "name": "python3"
  },
  "language_info": {
   "codemirror_mode": {
    "name": "ipython",
    "version": 3
   },
   "file_extension": ".py",
   "mimetype": "text/x-python",
   "name": "python",
   "nbconvert_exporter": "python",
   "pygments_lexer": "ipython3",
   "version": "3.11.5"
  }
 },
 "nbformat": 4,
 "nbformat_minor": 2
}
