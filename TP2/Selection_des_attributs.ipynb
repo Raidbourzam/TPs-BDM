{
 "cells": [
  {
   "cell_type": "markdown",
   "metadata": {},
   "source": [
    "## SELECTION DES ATTRIBUTS"
   ]
  },
  {
   "cell_type": "markdown",
   "metadata": {},
   "source": [
    "#### EXO1"
   ]
  },
  {
   "cell_type": "markdown",
   "metadata": {},
   "source": [
    "#### EXO2"
   ]
  },
  {
   "cell_type": "code",
   "execution_count": 2142,
   "metadata": {},
   "outputs": [],
   "source": [
    "import pandas as pd"
   ]
  },
  {
   "cell_type": "code",
   "execution_count": 2143,
   "metadata": {},
   "outputs": [
    {
     "name": "stdout",
     "output_type": "stream",
     "text": [
      "Index(['Unnamed: 0', 'Ozone', 'Solar.R', 'Wind', 'Temp', 'Month', 'Day'], dtype='object')\n"
     ]
    }
   ],
   "source": [
    "import numpy as np\n",
    "\n",
    "url = \"./airquality.csv\"\n",
    "data = pd.read_csv(url, sep=',')\n",
    "\n",
    "data = data[~np.isnan(data).any(axis=1)]\n",
    "\n",
    "print(data.columns)"
   ]
  },
  {
   "cell_type": "code",
   "execution_count": 2144,
   "metadata": {},
   "outputs": [
    {
     "data": {
      "text/plain": [
       "(111, 7)"
      ]
     },
     "execution_count": 2144,
     "metadata": {},
     "output_type": "execute_result"
    }
   ],
   "source": [
    "data.shape"
   ]
  },
  {
   "cell_type": "code",
   "execution_count": 2145,
   "metadata": {},
   "outputs": [
    {
     "data": {
      "text/plain": [
       "Index(['Unnamed: 0', 'Ozone', 'Solar.R', 'Wind', 'Temp', 'Month', 'Day'], dtype='object')"
      ]
     },
     "execution_count": 2145,
     "metadata": {},
     "output_type": "execute_result"
    }
   ],
   "source": [
    "data.columns"
   ]
  },
  {
   "cell_type": "code",
   "execution_count": 2146,
   "metadata": {},
   "outputs": [
    {
     "data": {
      "text/html": [
       "<div>\n",
       "<style scoped>\n",
       "    .dataframe tbody tr th:only-of-type {\n",
       "        vertical-align: middle;\n",
       "    }\n",
       "\n",
       "    .dataframe tbody tr th {\n",
       "        vertical-align: top;\n",
       "    }\n",
       "\n",
       "    .dataframe thead th {\n",
       "        text-align: right;\n",
       "    }\n",
       "</style>\n",
       "<table border=\"1\" class=\"dataframe\">\n",
       "  <thead>\n",
       "    <tr style=\"text-align: right;\">\n",
       "      <th></th>\n",
       "      <th>Unnamed: 0</th>\n",
       "      <th>Ozone</th>\n",
       "      <th>Solar.R</th>\n",
       "      <th>Wind</th>\n",
       "      <th>Temp</th>\n",
       "      <th>Month</th>\n",
       "      <th>Day</th>\n",
       "    </tr>\n",
       "  </thead>\n",
       "  <tbody>\n",
       "    <tr>\n",
       "      <th>0</th>\n",
       "      <td>1</td>\n",
       "      <td>41.0</td>\n",
       "      <td>190.0</td>\n",
       "      <td>7.4</td>\n",
       "      <td>67</td>\n",
       "      <td>5</td>\n",
       "      <td>1</td>\n",
       "    </tr>\n",
       "    <tr>\n",
       "      <th>1</th>\n",
       "      <td>2</td>\n",
       "      <td>36.0</td>\n",
       "      <td>118.0</td>\n",
       "      <td>8.0</td>\n",
       "      <td>72</td>\n",
       "      <td>5</td>\n",
       "      <td>2</td>\n",
       "    </tr>\n",
       "    <tr>\n",
       "      <th>2</th>\n",
       "      <td>3</td>\n",
       "      <td>12.0</td>\n",
       "      <td>149.0</td>\n",
       "      <td>12.6</td>\n",
       "      <td>74</td>\n",
       "      <td>5</td>\n",
       "      <td>3</td>\n",
       "    </tr>\n",
       "    <tr>\n",
       "      <th>3</th>\n",
       "      <td>4</td>\n",
       "      <td>18.0</td>\n",
       "      <td>313.0</td>\n",
       "      <td>11.5</td>\n",
       "      <td>62</td>\n",
       "      <td>5</td>\n",
       "      <td>4</td>\n",
       "    </tr>\n",
       "    <tr>\n",
       "      <th>6</th>\n",
       "      <td>7</td>\n",
       "      <td>23.0</td>\n",
       "      <td>299.0</td>\n",
       "      <td>8.6</td>\n",
       "      <td>65</td>\n",
       "      <td>5</td>\n",
       "      <td>7</td>\n",
       "    </tr>\n",
       "  </tbody>\n",
       "</table>\n",
       "</div>"
      ],
      "text/plain": [
       "   Unnamed: 0  Ozone  Solar.R  Wind  Temp  Month  Day\n",
       "0           1   41.0    190.0   7.4    67      5    1\n",
       "1           2   36.0    118.0   8.0    72      5    2\n",
       "2           3   12.0    149.0  12.6    74      5    3\n",
       "3           4   18.0    313.0  11.5    62      5    4\n",
       "6           7   23.0    299.0   8.6    65      5    7"
      ]
     },
     "execution_count": 2146,
     "metadata": {},
     "output_type": "execute_result"
    }
   ],
   "source": [
    "data.head()"
   ]
  },
  {
   "cell_type": "code",
   "execution_count": 2147,
   "metadata": {},
   "outputs": [],
   "source": [
    "data = data.drop(data.columns[0], axis=1) "
   ]
  },
  {
   "cell_type": "code",
   "execution_count": 2148,
   "metadata": {},
   "outputs": [],
   "source": [
    "from sklearn.preprocessing import MinMaxScaler\n",
    "\n",
    "\n",
    "numeric_columns = data.select_dtypes(include=['int', 'float']).columns\n",
    "\n",
    "scaler = MinMaxScaler()\n",
    "\n",
    "data[numeric_columns] = scaler.fit_transform(data[numeric_columns])"
   ]
  },
  {
   "cell_type": "markdown",
   "metadata": {},
   "source": [
    "Correlation matrix"
   ]
  },
  {
   "cell_type": "code",
   "execution_count": 2149,
   "metadata": {},
   "outputs": [
    {
     "name": "stdout",
     "output_type": "stream",
     "text": [
      "            Ozone   Solar.R      Wind      Temp     Month       Day\n",
      "Ozone    1.000000  0.348342 -0.612497  0.698541  0.142885 -0.005190\n",
      "Solar.R  0.348342  1.000000 -0.127183  0.294088 -0.074067 -0.057754\n",
      "Wind    -0.612497 -0.127183  1.000000 -0.497190 -0.194496  0.049871\n",
      "Temp     0.698541  0.294088 -0.497190  1.000000  0.403972 -0.096546\n",
      "Month    0.142885 -0.074067 -0.194496  0.403972  1.000000 -0.009001\n",
      "Day     -0.005190 -0.057754  0.049871 -0.096546 -0.009001  1.000000\n"
     ]
    }
   ],
   "source": [
    "df = pd.DataFrame(data)\n",
    "\n",
    "correlation = df.corr()\n",
    "print(correlation)"
   ]
  },
  {
   "cell_type": "code",
   "execution_count": 2150,
   "metadata": {},
   "outputs": [
    {
     "data": {
      "image/png": "[encoded data removed]",
      "text/plain": [
       "<Figure size 640x480 with 1 Axes>"
      ]
     },
     "metadata": {},
     "output_type": "display_data"
    }
   ],
   "source": [
    "import matplotlib.pyplot as plt\n",
    "\n",
    "\n",
    "plt.hist(data[\"Ozone\"], bins=data.shape[0])\n",
    "\n",
    "plt.xlabel(\"Ozone Concentration (ppb)\")\n",
    "plt.ylabel(\"Frequency\")\n",
    "plt.title(\"Histogram of Ozone Concentrations\")\n",
    "\n",
    "plt.show()"
   ]
  },
  {
   "cell_type": "code",
   "execution_count": 2151,
   "metadata": {},
   "outputs": [
    {
     "data": {
      "text/plain": [
       "(111, 6)"
      ]
     },
     "execution_count": 2151,
     "metadata": {},
     "output_type": "execute_result"
    }
   ],
   "source": [
    "data.shape"
   ]
  },
  {
   "cell_type": "code",
   "execution_count": 2152,
   "metadata": {},
   "outputs": [
    {
     "name": "stdout",
     "output_type": "stream",
     "text": [
      "(111, 5)\n",
      "(111,)\n"
     ]
    }
   ],
   "source": [
    "x = df.drop('Ozone', axis=1)\n",
    "y = data['Ozone']\n",
    "print(x.shape)\n",
    "print(y.shape)"
   ]
  },
  {
   "cell_type": "markdown",
   "metadata": {},
   "source": [
    "### preparation des training_data et test_data "
   ]
  },
  {
   "cell_type": "code",
   "execution_count": 2153,
   "metadata": {},
   "outputs": [
    {
     "name": "stdout",
     "output_type": "stream",
     "text": [
      "Dimensions de l'ensemble d'entraînement : (88, 5) (88,)\n",
      "Dimensions de l'ensemble de test : (23, 5) (23,)\n"
     ]
    }
   ],
   "source": [
    "from sklearn.model_selection import train_test_split\n",
    "\n",
    "x_train, x_test, y_train, y_test = train_test_split(x, y, test_size=0.2, random_state=42)\n",
    "\n",
    "print(\"Dimensions de l'ensemble d'entraînement :\", x_train.shape, y_train.shape)\n",
    "print(\"Dimensions de l'ensemble de test :\", x_test.shape, y_test.shape)"
   ]
  },
  {
   "cell_type": "code",
   "execution_count": 2154,
   "metadata": {},
   "outputs": [
    {
     "data": {
      "text/plain": [
       "(88, 6)"
      ]
     },
     "execution_count": 2154,
     "metadata": {},
     "output_type": "execute_result"
    }
   ],
   "source": [
    "ones_column = np.ones((x_train.shape[0], 1))\n",
    "x_train = np.hstack((ones_column, x_train))\n",
    "x_train.shape"
   ]
  },
  {
   "cell_type": "code",
   "execution_count": 2155,
   "metadata": {},
   "outputs": [
    {
     "name": "stdout",
     "output_type": "stream",
     "text": [
      "[[1.         0.96636086 0.5        0.75       0.25       0.3       ]\n",
      " [1.         0.66055046 0.18478261 0.55       0.         0.96666667]\n",
      " [1.         0.34556575 0.5        0.4        0.25       0.6       ]\n",
      " [1.         0.85015291 0.2173913  0.675      0.5        0.56666667]\n",
      " [1.         0.70642202 0.05978261 0.6        0.75       0.8       ]\n",
      " [1.         0.11314985 0.40217391 0.125      0.         0.63333333]\n",
      " [1.         0.12538226 0.65217391 0.575      0.5        0.46666667]\n",
      " [1.         0.65137615 0.43478261 0.525      1.         0.23333333]\n",
      " [1.         0.68195719 0.4673913  0.45       1.         0.26666667]\n",
      " [1.         0.81651376 0.4673913  0.275      0.         0.43333333]\n",
      " [1.         0.80122324 0.09782609 0.675      0.5        0.        ]\n",
      " [1.         0.62996942 0.27717391 0.775      0.5        0.9       ]\n",
      " [1.         0.13455657 0.2173913  0.55       0.75       0.53333333]\n",
      " [1.         0.56269113 0.68478261 0.5        0.25       0.5       ]\n",
      " [1.         0.81039755 0.18478261 0.875      0.5        0.26666667]\n",
      " [1.         0.28134557 0.625      0.05       0.         0.23333333]\n",
      " [1.         0.22629969 0.3423913  0.625      0.5        0.83333333]\n",
      " [1.         0.75840979 0.0923913  0.8        0.75       0.2       ]\n",
      " [1.         0.79510703 0.2173913  0.875      0.5        0.23333333]\n",
      " [1.         0.70030581 0.375      0.6        0.5        0.06666667]\n",
      " [1.         0.0030581  0.40217391 0.05       0.         0.66666667]\n",
      " [1.         0.40366972 0.43478261 0.6        1.         0.73333333]\n",
      " [1.         0.73700306 0.375      0.7        0.5        0.03333333]\n",
      " [1.         0.4587156  0.40217391 0.575      0.75       0.43333333]\n",
      " [1.         0.76146789 0.40217391 0.3        0.         0.36666667]\n",
      " [1.         0.51376147 0.68478261 0.6        0.5        0.4       ]\n",
      " [1.         0.81345566 0.5        0.625      0.75       0.4       ]\n",
      " [1.         0.7706422  0.7173913  0.5        0.75       0.66666667]\n",
      " [1.         0.43119266 0.30978261 0.625      0.25       0.4       ]\n",
      " [1.         0.25993884 0.52717391 0.1        0.         0.76666667]\n",
      " [1.         0.74923547 0.4673913  0.575      1.         0.2       ]\n",
      " [1.         0.7706422  0.7173913  0.475      1.         0.36666667]\n",
      " [1.         0.86850153 0.625      0.825      0.25       0.26666667]\n",
      " [1.         0.86544343 0.375      0.225      0.         0.4       ]\n",
      " [1.         0.59327217 0.30978261 0.625      1.         0.63333333]\n",
      " [1.         0.65137615 0.5        0.7        0.5        0.63333333]\n",
      " [1.         0.21712538 0.875      0.         0.         0.56666667]\n",
      " [1.         0.63608563 0.30978261 0.725      0.75       0.83333333]\n",
      " [1.         0.36697248 0.40217391 0.625      0.25       0.2       ]\n",
      " [1.         0.93577982 0.5        0.125      0.         0.1       ]\n",
      " [1.         0.95718654 0.77717391 0.4        0.         0.7       ]\n",
      " [1.         0.82262997 0.15217391 0.775      0.5        0.2       ]\n",
      " [1.         0.55657492 0.125      0.9        1.         0.1       ]\n",
      " [1.         0.03669725 0.9673913  0.1        0.         0.26666667]\n",
      " [1.         0.12844037 0.43478261 0.3        1.         0.76666667]\n",
      " [1.         0.05198777 0.4673913  0.35       1.         0.43333333]\n",
      " [1.         0.7706422  0.40217391 0.4        1.         0.3       ]\n",
      " [1.         0.2293578  0.52717391 0.725      0.5        0.86666667]\n",
      " [1.         0.         0.25       0.425      0.5        0.66666667]\n",
      " [1.         0.66360856 0.625      0.25       1.         0.53333333]\n",
      " [1.         0.81651376 0.43478261 0.625      0.5        0.53333333]\n",
      " [1.         0.58103976 0.15217391 0.875      1.         0.03333333]\n",
      " [1.         0.21406728 0.27717391 0.625      0.75       0.06666667]\n",
      " [1.         0.56880734 0.25       0.325      1.         0.83333333]\n",
      " [1.         0.70642202 0.43478261 0.275      1.         0.6       ]\n",
      " [1.         0.51376147 0.27717391 0.8        0.5        0.3       ]\n",
      " [1.         0.75535168 0.375      0.6        0.5        1.        ]\n",
      " [1.         0.55045872 0.15217391 0.75       0.5        0.6       ]\n",
      " [1.         0.70642202 0.2173913  0.5        1.         0.4       ]\n",
      " [1.         0.75229358 0.27717391 0.65       0.5        0.96666667]\n",
      " [1.         0.62691131 0.40217391 0.55       0.75       0.76666667]\n",
      " [1.         0.39755352 0.43478261 0.475      0.25       0.63333333]\n",
      " [1.         0.02140673 0.375      0.35       1.         0.7       ]\n",
      " [1.         0.2324159  0.25       0.6        0.75       0.        ]\n",
      " [1.         0.67889908 0.43478261 0.825      0.75       0.23333333]\n",
      " [1.         0.56269113 0.65217391 0.45       1.         0.9       ]\n",
      " [1.         0.93883792 0.4673913  0.65       0.5        0.16666667]\n",
      " [1.         0.8470948  1.         0.375      0.25       0.53333333]\n",
      " [1.         0.70336391 0.25       0.525      1.         0.5       ]\n",
      " [1.         0.33944954 0.30978261 0.375      0.         0.03333333]\n",
      " [1.         0.66055046 0.30978261 0.7        0.5        0.8       ]\n",
      " [1.         0.74923547 0.68478261 0.6        0.         0.93333333]\n",
      " [1.         0.43425076 0.55978261 0.425      0.         0.06666667]\n",
      " [1.         0.83180428 0.27717391 0.475      0.         1.        ]\n",
      " [1.         0.25993884 0.7173913  0.675      1.         0.16666667]\n",
      " [1.         0.06116208 0.43478261 0.475      1.         0.56666667]\n",
      " [1.         0.08868502 0.65217391 0.375      0.75       0.7       ]\n",
      " [1.         0.26911315 0.27717391 0.75       1.         0.13333333]\n",
      " [1.         0.48929664 0.25       0.85       1.         0.        ]\n",
      " [1.         0.66055046 0.5        0.275      1.         0.96666667]\n",
      " [1.         0.01834862 0.52717391 0.25       0.         0.9       ]\n",
      " [1.         0.05198777 0.625      0.6        0.75       0.03333333]\n",
      " [1.         0.72477064 0.4673913  0.525      0.75       0.6       ]\n",
      " [1.         0.03975535 0.77717391 0.15       1.         0.8       ]\n",
      " [1.         0.96330275 0.5        0.275      0.         0.6       ]\n",
      " [1.         0.70030581 0.68478261 0.6        1.         0.33333333]\n",
      " [1.         0.87767584 0.3423913  0.725      0.5        0.76666667]\n",
      " [1.         0.70642202 0.55978261 0.175      1.         0.66666667]]\n"
     ]
    }
   ],
   "source": [
    "print(x_train)"
   ]
  },
  {
   "cell_type": "code",
   "execution_count": 2156,
   "metadata": {},
   "outputs": [
    {
     "data": {
      "text/plain": [
       "6"
      ]
     },
     "execution_count": 2156,
     "metadata": {},
     "output_type": "execute_result"
    }
   ],
   "source": [
    "x_train.shape[1] # shape[1] nombre de columns (features)"
   ]
  },
  {
   "cell_type": "code",
   "execution_count": 2157,
   "metadata": {},
   "outputs": [
    {
     "name": "stdout",
     "output_type": "stream",
     "text": [
      "(88, 1)\n"
     ]
    }
   ],
   "source": [
    "import numpy as np\n",
    "\n",
    "y_array = y_train.to_numpy()\n",
    "y_train= y_array.reshape(y_train.shape[0], 1)\n",
    "print(y_train.shape)"
   ]
  },
  {
   "cell_type": "markdown",
   "metadata": {},
   "source": [
    "# Linear regression"
   ]
  },
  {
   "cell_type": "code",
   "execution_count": 2158,
   "metadata": {},
   "outputs": [
    {
     "data": {
      "text/plain": [
       "array([[ 1.76405235],\n",
       "       [ 0.40015721],\n",
       "       [ 0.97873798],\n",
       "       [ 2.2408932 ],\n",
       "       [ 1.86755799],\n",
       "       [-0.97727788]])"
      ]
     },
     "execution_count": 2158,
     "metadata": {},
     "output_type": "execute_result"
    }
   ],
   "source": [
    "np.random.seed(0)  \n",
    "theta = np.random.randn(x_train.shape[1], 1)\n",
    "theta"
   ]
  },
  {
   "cell_type": "code",
   "execution_count": 2159,
   "metadata": {},
   "outputs": [
    {
     "data": {
      "text/plain": [
       "(6, 1)"
      ]
     },
     "execution_count": 2159,
     "metadata": {},
     "output_type": "execute_result"
    }
   ],
   "source": [
    "theta.shape"
   ]
  },
  {
   "cell_type": "code",
   "execution_count": 2160,
   "metadata": {},
   "outputs": [],
   "source": [
    "n_iterations = 100\n",
    "learning_rate = 0.01\n",
    "lambda_ = 80\n"
   ]
  },
  {
   "cell_type": "code",
   "execution_count": 2161,
   "metadata": {},
   "outputs": [],
   "source": [
    "def Linear_model(x_train, theta):\n",
    "    return x_train.dot(theta)"
   ]
  },
  {
   "cell_type": "code",
   "execution_count": 2162,
   "metadata": {},
   "outputs": [
    {
     "data": {
      "text/plain": [
       "(88, 1)"
      ]
     },
     "execution_count": 2162,
     "metadata": {},
     "output_type": "execute_result"
    }
   ],
   "source": [
    "Linear_model(x_train, theta).shape"
   ]
  },
  {
   "cell_type": "code",
   "execution_count": 2163,
   "metadata": {},
   "outputs": [
    {
     "data": {
      "text/plain": [
       "(88, 6)"
      ]
     },
     "execution_count": 2163,
     "metadata": {},
     "output_type": "execute_result"
    }
   ],
   "source": [
    "x_train.shape"
   ]
  },
  {
   "cell_type": "code",
   "execution_count": 2164,
   "metadata": {},
   "outputs": [
    {
     "data": {
      "text/plain": [
       "(88, 1)"
      ]
     },
     "execution_count": 2164,
     "metadata": {},
     "output_type": "execute_result"
    }
   ],
   "source": [
    "y_train.shape"
   ]
  },
  {
   "cell_type": "code",
   "execution_count": 2165,
   "metadata": {},
   "outputs": [],
   "source": [
    "def cost_function(x_train, y_train, theta, lambda_):\n",
    "    m = len(y_train)\n",
    "    ridge_term = (lambda_ / 2*m) * np.sum(theta[1:]**2)\n",
    "    return (1/(2*m) * np.sum((Linear_model(x_train, theta) - y_train)**2)) + ridge_term"
   ]
  },
  {
   "cell_type": "code",
   "execution_count": 2166,
   "metadata": {},
   "outputs": [
    {
     "data": {
      "text/plain": [
       "(88, 6)"
      ]
     },
     "execution_count": 2166,
     "metadata": {},
     "output_type": "execute_result"
    }
   ],
   "source": [
    "x_train.shape"
   ]
  },
  {
   "cell_type": "code",
   "execution_count": 2167,
   "metadata": {},
   "outputs": [
    {
     "data": {
      "text/plain": [
       "(88, 1)"
      ]
     },
     "execution_count": 2167,
     "metadata": {},
     "output_type": "execute_result"
    }
   ],
   "source": [
    "y_train.shape"
   ]
  },
  {
   "cell_type": "code",
   "execution_count": 2168,
   "metadata": {},
   "outputs": [
    {
     "data": {
      "text/plain": [
       "(6, 1)"
      ]
     },
     "execution_count": 2168,
     "metadata": {},
     "output_type": "execute_result"
    }
   ],
   "source": [
    "theta.shape"
   ]
  },
  {
   "cell_type": "code",
   "execution_count": 2169,
   "metadata": {},
   "outputs": [
    {
     "data": {
      "text/plain": [
       "37258.472222734614"
      ]
     },
     "execution_count": 2169,
     "metadata": {},
     "output_type": "execute_result"
    }
   ],
   "source": [
    "cost_function(x_train, y_train, theta , lambda_)"
   ]
  },
  {
   "cell_type": "code",
   "execution_count": 2170,
   "metadata": {},
   "outputs": [],
   "source": [
    "def grad(x_train, y_train_train, theta , lambda_):\n",
    "    m = len(y_train)\n",
    "    grad = (1 / m) * x_train.T.dot(Linear_model(x_train, theta) - y_train)\n",
    "    ridge_term = (lambda_ / m) * theta\n",
    "    ridge_term[0] = 0\n",
    "    return grad + ridge_term"
   ]
  },
  {
   "cell_type": "code",
   "execution_count": 2171,
   "metadata": {},
   "outputs": [
    {
     "data": {
      "text/plain": [
       "array([[3.89928154],\n",
       "       [2.52014326],\n",
       "       [2.56178243],\n",
       "       [4.18154922],\n",
       "       [4.18757698],\n",
       "       [0.88224614]])"
      ]
     },
     "execution_count": 2171,
     "metadata": {},
     "output_type": "execute_result"
    }
   ],
   "source": [
    "grad(x_train, y_train, theta, lambda_)"
   ]
  },
  {
   "cell_type": "code",
   "execution_count": 2172,
   "metadata": {},
   "outputs": [
    {
     "data": {
      "text/plain": [
       "(6, 88)"
      ]
     },
     "execution_count": 2172,
     "metadata": {},
     "output_type": "execute_result"
    }
   ],
   "source": [
    "x_train.T.shape"
   ]
  },
  {
   "cell_type": "code",
   "execution_count": 2173,
   "metadata": {},
   "outputs": [
    {
     "data": {
      "text/plain": [
       "(88, 1)"
      ]
     },
     "execution_count": 2173,
     "metadata": {},
     "output_type": "execute_result"
    }
   ],
   "source": [
    "(Linear_model(x_train, theta) - y_train).shape"
   ]
  },
  {
   "cell_type": "code",
   "execution_count": 2174,
   "metadata": {},
   "outputs": [
    {
     "data": {
      "text/plain": [
       "(6, 1)"
      ]
     },
     "execution_count": 2174,
     "metadata": {},
     "output_type": "execute_result"
    }
   ],
   "source": [
    "x_train.T.dot(Linear_model(x_train, theta) - y_train).shape"
   ]
  },
  {
   "cell_type": "code",
   "execution_count": 2175,
   "metadata": {},
   "outputs": [],
   "source": [
    "def gradient_descent(x_train, y_train, theta, lambda_, learning_rate, n_iterations):\n",
    "\n",
    "    cost_history = np.zeros(n_iterations)\n",
    "    \n",
    "    for i in range(n_iterations):\n",
    "\n",
    "        theta = theta - learning_rate * grad(x_train, y_train, theta, lambda_)\n",
    "        \n",
    "        cost_history[i] = cost_function(x_train, y_train, theta , lambda_)\n",
    "        \n",
    "    return theta, cost_history"
   ]
  },
  {
   "cell_type": "code",
   "execution_count": 2176,
   "metadata": {},
   "outputs": [],
   "source": [
    "theta_final, cost_history = gradient_descent(x_train, y_train, theta, lambda_, learning_rate, n_iterations)"
   ]
  },
  {
   "cell_type": "code",
   "execution_count": 2177,
   "metadata": {},
   "outputs": [
    {
     "data": {
      "text/plain": [
       "array([[ 0.4693713 ],\n",
       "       [-0.20974634],\n",
       "       [ 0.08867752],\n",
       "       [ 0.51054106],\n",
       "       [ 0.27923451],\n",
       "       [-0.67302478]])"
      ]
     },
     "execution_count": 2177,
     "metadata": {},
     "output_type": "execute_result"
    }
   ],
   "source": [
    "theta_final"
   ]
  },
  {
   "cell_type": "code",
   "execution_count": 2178,
   "metadata": {},
   "outputs": [
    {
     "data": {
      "text/plain": [
       "array([35878.11327231, 34563.17366209, 33310.12193476, 32115.62730177,\n",
       "       30976.54804202, 29889.92057483, 28852.94916778, 27862.99624268,\n",
       "       26917.57324468, 26014.33204188, 25151.05682448, 24325.65647454,\n",
       "       23536.15737874, 22780.69665859, 22057.51579368, 21364.95461514,\n",
       "       20701.4456477 , 20065.50878024, 19455.74624547, 18870.83789099,\n",
       "       18309.53672465, 17770.66471829, 17253.10885477, 16755.81740429,\n",
       "       16277.79641646, 15818.10641574, 15375.85928837, 14950.21534953,\n",
       "       14540.38058053, 14145.60402578, 13765.17534062, 13398.42248091,\n",
       "       13044.7095264 , 12703.43462986, 12374.02808496, 12055.95050562,\n",
       "       11748.69111076, 11451.76610792, 11164.71717038, 10887.11000206,\n",
       "       10618.5329852 , 10358.59590614, 10106.92875439,  9863.18059098,\n",
       "        9627.01848199,  9398.12649333,  9176.20474353,  8960.96851079,\n",
       "        8752.14739151,  8549.48450696,  8352.73575567,  8161.66910847,\n",
       "        7976.06394415,  7795.71042296,  7620.40889611,  7449.96934895,\n",
       "        7284.21087594,  7122.96118567,  6966.05613404,  6813.33928402,\n",
       "        6664.66149053,  6519.88050886,  6378.86062536,  6241.47230906,\n",
       "        6107.59188305,  5977.10121447,  5849.88742197,  5725.84259969,\n",
       "        5604.8635569 ,  5486.85157215,  5371.71216131,  5259.35485865,\n",
       "        5149.69301013,  5042.6435783 ,  4938.12695803,  4836.06680258,\n",
       "        4736.38985931,  4639.02581451,  4543.90714681,  4450.96898873,\n",
       "        4360.14899587,  4271.38722323,  4184.6260084 ,  4099.80986113,\n",
       "        4016.88535886,  3935.80104804,  3856.50735079,  3778.95647651,\n",
       "        3703.10233844,  3628.90047455,  3556.30797278,  3485.28340023,\n",
       "        3415.78673613,  3347.77930838,  3281.22373342,  3216.08385936,\n",
       "        3152.32471192,  3089.9124434 ,  3028.81428414,  2968.9984966 ])"
      ]
     },
     "execution_count": 2178,
     "metadata": {},
     "output_type": "execute_result"
    }
   ],
   "source": [
    "cost_history"
   ]
  },
  {
   "cell_type": "code",
   "execution_count": 2179,
   "metadata": {},
   "outputs": [
    {
     "data": {
      "text/plain": [
       "<mpl_toolkits.mplot3d.art3d.Path3DCollection at 0x19b18b2b690>"
      ]
     },
     "execution_count": 2179,
     "metadata": {},
     "output_type": "execute_result"
    },
    {
     "data": {
      "image/png": "[encoded data removed]",
      "text/plain": [
       "<Figure size 640x480 with 1 Axes>"
      ]
     },
     "metadata": {},
     "output_type": "display_data"
    }
   ],
   "source": [
    "predictions = Linear_model(x_train, theta_final)\n",
    "\n",
    "fig = plt.figure()\n",
    "ax = fig.add_subplot(111, projection='3d')\n",
    "\n",
    "ax.scatter(x_train[:,0], x_train[:,1], y_train)\n",
    "ax.scatter(x_train[:,0], x_train[:,1], predictions)"
   ]
  },
  {
   "cell_type": "code",
   "execution_count": 2180,
   "metadata": {},
   "outputs": [
    {
     "data": {
      "text/plain": [
       "[<matplotlib.lines.Line2D at 0x19b18b0dad0>]"
      ]
     },
     "execution_count": 2180,
     "metadata": {},
     "output_type": "execute_result"
    },
    {
     "data": {
      "image/png": "[encoded data removed]",
      "text/plain": [
       "<Figure size 640x480 with 1 Axes>"
      ]
     },
     "metadata": {},
     "output_type": "display_data"
    }
   ],
   "source": [
    "plt.plot(range(n_iterations), cost_history)"
   ]
  },
  {
   "cell_type": "code",
   "execution_count": 2181,
   "metadata": {},
   "outputs": [],
   "source": [
    "def coef_determination(y_train, pred):\n",
    "\n",
    "    u = ((y_train - pred)**2).sum()\n",
    "    v = ((y_train - y_train.mean())**2).sum()\n",
    "    return 1 - u/v"
   ]
  },
  {
   "cell_type": "code",
   "execution_count": 2182,
   "metadata": {},
   "outputs": [
    {
     "data": {
      "text/plain": [
       "-2.8411579941018643"
      ]
     },
     "execution_count": 2182,
     "metadata": {},
     "output_type": "execute_result"
    }
   ],
   "source": [
    "coef_determination(y_train, predictions)"
   ]
  }
 ],
 "metadata": {
  "kernelspec": {
   "display_name": "Python 3",
   "language": "python",
   "name": "python3"
  },
  "language_info": {
   "codemirror_mode": {
    "name": "ipython",
    "version": 3
   },
   "file_extension": ".py",
   "mimetype": "text/x-python",
   "name": "python",
   "nbconvert_exporter": "python",
   "pygments_lexer": "ipython3",
   "version": "3.11.5"
  }
 },
 "nbformat": 4,
 "nbformat_minor": 2
}
